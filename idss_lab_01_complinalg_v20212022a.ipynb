{
  "nbformat": 4,
  "nbformat_minor": 0,
  "metadata": {
    "interpreter": {
      "hash": "dba6095c14cb22b0389d5dab14519f1738f729ed6c2eee8d4bc23cd444828298"
    },
    "kernelspec": {
      "display_name": "Python 3.8.5 64-bit ('base': conda)",
      "name": "python3"
    },
    "language_info": {
      "codemirror_mode": {
        "name": "ipython",
        "version": 3
      },
      "file_extension": ".py",
      "mimetype": "text/x-python",
      "name": "python",
      "nbconvert_exporter": "python",
      "pygments_lexer": "ipython3",
      "version": "3.8.5"
    },
    "toc": {
      "base_numbering": 1,
      "nav_menu": {},
      "number_sections": true,
      "sideBar": true,
      "skip_h1_title": false,
      "title_cell": "Table of Contents",
      "title_sidebar": "Contents",
      "toc_cell": false,
      "toc_position": {},
      "toc_section_display": "block",
      "toc_window_display": false
    },
    "varInspector": {
      "cols": {
        "lenName": 16,
        "lenType": 16,
        "lenVar": 40
      },
      "kernels_config": {
        "python": {
          "delete_cmd_postfix": "",
          "delete_cmd_prefix": "del ",
          "library": "var_list.py",
          "varRefreshCmd": "print(var_dic_list())"
        },
        "r": {
          "delete_cmd_postfix": ") ",
          "delete_cmd_prefix": "rm(",
          "library": "var_list.r",
          "varRefreshCmd": "cat(var_dic_list()) "
        }
      },
      "types_to_exclude": [
        "module",
        "function",
        "builtin_function_or_method",
        "instance",
        "_Feature"
      ],
      "window_display": false
    },
    "colab": {
      "name": "idss_lab_01_complinalg_v20212022a.ipynb",
      "provenance": [],
      "include_colab_link": true
    }
  },
  "cells": [
    {
      "cell_type": "markdown",
      "metadata": {
        "id": "view-in-github",
        "colab_type": "text"
      },
      "source": [
        "<a href=\"https://colab.research.google.com/github/Sandhya-ux/idss_lab_01_complinalg/blob/main/idss_lab_01_complinalg_v20212022a.ipynb\" target=\"_parent\"><img src=\"https://colab.research.google.com/assets/colab-badge.svg\" alt=\"Open In Colab\"/></a>"
      ]
    },
    {
      "cell_type": "code",
      "metadata": {
        "id": "DJFSVmaxTiXD"
      },
      "source": [
        " !pip install colabcode\n",
        "from colabcode import ColabCode\n",
        "ColabCode(port=10000)"
      ],
      "execution_count": null,
      "outputs": []
    },
    {
      "cell_type": "code",
      "metadata": {
        "id": "E2k3ms7aOJQr",
        "outputId": "c6dddeed-d664-4883-d73f-ff054189e7a5",
        "colab": {
          "base_uri": "https://localhost:8080/"
        }
      },
      "source": [
        "!git clone https://github.com/Sandhya-ux/idss_lab_01_complinalg.git\n",
        "%cd idss_lab_01_complinalg"
      ],
      "execution_count": 11,
      "outputs": [
        {
          "output_type": "stream",
          "name": "stdout",
          "text": [
            "Cloning into 'idss_lab_01_complinalg'...\n",
            "remote: Enumerating objects: 37, done.\u001b[K\n",
            "remote: Counting objects: 100% (37/37), done.\u001b[K\n",
            "remote: Compressing objects: 100% (34/34), done.\u001b[K\n",
            "remote: Total 37 (delta 11), reused 0 (delta 0), pack-reused 0\u001b[K\n",
            "Unpacking objects: 100% (37/37), done.\n",
            "/content/idss_lab_01_complinalg/idss_lab_01_complinalg\n"
          ]
        }
      ]
    },
    {
      "cell_type": "markdown",
      "metadata": {
        "nbgrader": {
          "checksum": "4f07f49574a8963c9b87cf8947d7fb36",
          "grade": false,
          "grade_id": "cell-513963dffd022dec",
          "locked": false,
          "schema_version": 1,
          "solution": false
        },
        "id": "ukTT5w83AkF1"
      },
      "source": [
        "# Introduction to Data Science and Systems 2021-2022<small><small>v20212022a</small></small>\n",
        "## Lab 1: Computational Linear Algebra\n",
        "#### - ***you should submit the completed notebook to Moodle along with one pdf file (see the end of the notebook and Moodle for instructions)***\n",
        "\n",
        "#### University of Glasgow, JHW, BSJ & NP, 2021-2022"
      ]
    },
    {
      "cell_type": "markdown",
      "metadata": {
        "deletable": false,
        "editable": false,
        "nbgrader": {
          "checksum": "0f926e0273c0d6f9970a1feddfe7b3a1",
          "grade": false,
          "grade_id": "cell-64dafcaf484d67ef",
          "locked": true,
          "schema_version": 1,
          "solution": false
        },
        "id": "GEPNeJW_AkF5"
      },
      "source": [
        "## Guide\n",
        "\n",
        "Lab 1 is structured as follows (with two main task sections):\n",
        "\n",
        ">-    **Intro: A whisky dataset** \n",
        ">-    **Task A: Norms, interpolation and statistics**\n",
        ">-    **Task B: Eigenvectors and PCA**\n",
        ">-    **Task C: System of linear equations**\n",
        ">-    **Appendix: Marking Summary (and additional metadata)**\n",
        "\n",
        "You will need to understand the following functions well to complete this lab:\n",
        "* [`np.argmin()`](https://docs.scipy.org/doc/numpy-1.13.0/reference/generated/numpy.argmin.html) [Self-study]\n",
        "* [`np.argsort()`](https://docs.scipy.org/doc/numpy-1.13.0/reference/generated/numpy.argsort.html) [Self-study]\n",
        "* [`np.linalg.norm()`](https://docs.scipy.org/doc/numpy-1.13.0/reference/generated/numpy.linalg.norm.html) [Week 2]\n",
        "* [`np.linalg.svd()`](https://docs.scipy.org/doc/numpy-1.13.0/reference/generated/numpy.linalg.svd.html) [Week 3]\n",
        "* [`np.linalg.eig()`](https://docs.scipy.org/doc/numpy-1.13.0/reference/generated/numpy.linalg.eig.html) [Week 3]\n",
        "* [`np.cov()`](https://docs.scipy.org/doc/numpy-1.13.0/reference/generated/numpy.cov.html) [Week 2]\n",
        "* [`np.linalg.pinv()`](https://docs.scipy.org/doc/numpy-1.13.0/reference/generated/numpy.linalg.pinv.html) [Week 3]\n",
        "\n",
        "\n",
        "We recommend you read through the lab *carefully* and work through the tasks one by one.\n",
        "\n",
        "#### Material and resources \n",
        "- It is recommended to keep the lecture notes (from lecture 1-2) open while doing this lab exercise. \n",
        "- If you are stuck, the following resources are very helpful:\n",
        " * [NumPy cheatsheet](https://github.com/juliangaal/python-cheat-sheet/blob/master/NumPy/NumPy.md)\n",
        " * [NumPy API reference](https://docs.scipy.org/doc/numpy-1.13.0/reference/)\n",
        " * [NumPy user guide](https://docs.scipy.org/doc/numpy-1.13.0/user/basics.html)\n",
        "\n",
        "#### Marking and Feedback\n",
        "This assessed lab is marked using two different techniques;\n",
        "\n",
        "- Autograded with feedback; you'll get immediate feedback.\n",
        "- Autograded without (immediate) feedback (there will always be a small demo/test so you can be confident that the format of your answer is correct).\n",
        "\n",
        "*Note*: auto-graded results are always provisional and subject to change in case there are significant issues (this will be in favor of the student).\n",
        "\n",
        "#### Help \\& Assistance\n",
        "- This lab is graded and the lab assistants/lecturer can provide guidance but we can (and will) not give you the final answer or confirm your result.\n",
        "\n",
        "#### Plagiarism\n",
        "- All submissions will be automatically compared against each other so make sure your submission represents an independent piece of work! We have provided a few checks to make sure that is indeed the case.\n"
      ]
    },
    {
      "cell_type": "markdown",
      "metadata": {
        "deletable": false,
        "editable": false,
        "nbgrader": {
          "checksum": "9884d6d70c45e5ea628bd3c007b09726",
          "grade": false,
          "grade_id": "cell-6b95748ebed738b4",
          "locked": true,
          "schema_version": 1,
          "solution": false
        },
        "id": "8_wOeIKRAkF6"
      },
      "source": [
        "---"
      ]
    },
    {
      "cell_type": "markdown",
      "metadata": {
        "deletable": false,
        "editable": false,
        "nbgrader": {
          "checksum": "b560f9567a7bdd0813fb534ef4830cfc",
          "grade": false,
          "grade_id": "cell-6e0258c0cbf33493",
          "locked": true,
          "schema_version": 1,
          "solution": false
        },
        "id": "4QwzzqLNAkF7"
      },
      "source": [
        "# Before you begin\n",
        "\n",
        "Please update the tools we use for the automated greading by running the below command (uncomment) and restart your kernel (and then uncomment again) -- or simply perform the installation externally in an Anaconda/Python prompt."
      ]
    },
    {
      "cell_type": "code",
      "metadata": {
        "id": "wjQtvH-5AkF8",
        "colab": {
          "base_uri": "https://localhost:8080/",
          "height": 341
        },
        "outputId": "c2649223-be14-4d2a-b0fb-d9a90e5c7a3c"
      },
      "source": [
        "!pip install -U --force-reinstall --no-cache https://github.com/johnhw/jhwutils/zipball/master"
      ],
      "execution_count": 12,
      "outputs": [
        {
          "output_type": "stream",
          "name": "stdout",
          "text": [
            "Collecting https://github.com/johnhw/jhwutils/zipball/master\n",
            "  Downloading https://github.com/johnhw/jhwutils/zipball/master\n",
            "\u001b[K     \\ 36 kB 898 kB/s\n",
            "\u001b[?25hBuilding wheels for collected packages: jhwutils\n",
            "  Building wheel for jhwutils (setup.py) ... \u001b[?25l\u001b[?25hdone\n",
            "  Created wheel for jhwutils: filename=jhwutils-1.0-py3-none-any.whl size=31798 sha256=638fa51857891231d19ea70b4aa53729553cd88aabcd7786540ef0b1181f48af\n",
            "  Stored in directory: /tmp/pip-ephem-wheel-cache-ovmmybk8/wheels/35/42/0d/488274c68899cc4918e66f9f9a8de078605b95cd13d82f8568\n",
            "Successfully built jhwutils\n",
            "Installing collected packages: jhwutils\n",
            "  Attempting uninstall: jhwutils\n",
            "    Found existing installation: jhwutils 1.0\n",
            "    Uninstalling jhwutils-1.0:\n",
            "      Successfully uninstalled jhwutils-1.0\n",
            "Successfully installed jhwutils-1.0\n"
          ]
        },
        {
          "output_type": "display_data",
          "data": {
            "application/vnd.colab-display-data+json": {
              "pip_warning": {
                "packages": [
                  "jhwutils"
                ]
              }
            }
          },
          "metadata": {}
        }
      ]
    },
    {
      "cell_type": "markdown",
      "metadata": {
        "id": "FLo4huyrAkF-"
      },
      "source": [
        "Let's import some useful Python packages and define a few custom functions..."
      ]
    },
    {
      "cell_type": "code",
      "metadata": {
        "ExecuteTime": {
          "end_time": "2020-10-15T13:21:55.702690Z",
          "start_time": "2020-10-15T13:21:54.170696Z"
        },
        "id": "JE0IYDpcAkF_",
        "colab": {
          "base_uri": "https://localhost:8080/"
        },
        "outputId": "54591a7d-e29c-4324-bc0f-e7c464361f35"
      },
      "source": [
        "# Standard imports\n",
        "# Make sure you run this cell!\n",
        "from __future__ import print_function, division\n",
        "import numpy as np  # NumPy\n",
        "import scipy.stats \n",
        "import os\n",
        "import sys\n",
        "import binascii\n",
        "from unittest.mock import patch\n",
        "from uuid import getnode as get_mac\n",
        "\n",
        "from jhwutils.checkarr import array_hash, check_hash, check_scalar, check_string\n",
        "import jhwutils.image_audio as ia\n",
        "import jhwutils.tick as tick\n",
        "\n",
        "###\n",
        "tick.reset_marks()\n",
        "\n",
        "# special hash funciton\n",
        "def case_crc(s, verbose=True):\n",
        "    h_crc = binascii.crc32(bytes(s.lower(), 'ascii'))\n",
        "    if verbose:\n",
        "        print(h_crc)\n",
        "    return h_crc\n",
        "\n",
        "# this command generaties a unique key for your system/computer/account\n",
        "uuid_simple = ((\"%s\") % get_mac())\n",
        "uuid_str = (\"%s\\n%s\\n%s\\n%s\\n%s\\n\") % (os.path,sys.path,sys.version,sys.version_info,get_mac())\n",
        "uuid_system = case_crc(uuid_str,verbose=False) \n",
        "\n",
        "\n",
        "# Set up Matplotlib\n",
        "import matplotlib as mpl   \n",
        "import matplotlib.pyplot as plt\n",
        "%matplotlib inline\n",
        "plt.rc('figure', figsize=(8.0, 4.0), dpi=140)\n",
        "np.random.seed(2021)\n",
        "\n",
        "# You can ignore this\n",
        "import lzma, base64\n",
        "exec(lzma.decompress(base64.b64decode(b'/Td6WFoAAATm1rRGAgAhARYAAAB0L+Wj4AuQBIRdADSbSme4Ujxz95HdWLf4m39SX9b5yuqRd8UVk3DwULgMdEb8P1bLvis2Swz3hlDU+FwGvQQSXUZEv0GMy+ErARv0E4TRCmTvFyQ5JSb/G7uf1mJI1cRyyqS/p8OjxfizueERZipJkqifEM7mgPLl2o+B4OX/p+0Vu3LfTMRZvY//6V0JXZwRxDGVuddVdlsZOuNDNEzsXiiyo2fiXL31w0sXabfigUkJ4q1uo4W7C0THX7Lhb0zVk9A0/+f114CeChR9Gz25xOstbGjOodl1SDpP5rKIxkxZTzcjw65yJRKqid46CTa5ffWK7y9QtygL7IqcGB9ode3TKcTh57Edd9+wylW9BiSE8/qh/93qFavlXK1sjLdoTWEfPZ96HOR6La9g8KEEFNNMAc+7HtTv1JwoX8w+zLayLzdpIqA+HLAVFiVeFg4jPu8imDtmoOhe66WDgPWsXetR6FFCK7mw4q4Q+A4TCz6ugUoh/gIEGjIadianBQVSST062b8vSLzWmFYLKJoRPDHPyvFWKX5u27LZ9Bpswls2feqW6SBEvavwjckRwW5r4Fc6F+MEYgZmAUy8sJRXe7JHvp6LZ3o5RM92eQRoGsDeL82U2LC6sXfxy3MBj6Gd0wwWC9iJdyvs+laSdI41jk2lZUcDpVCBoSV/Zr+0rH1PsT33u2NlfDsaXrG67zKhbB+SSGz3OoN6Kq/1GwWf+GvNH3cySyrJOgN2edwh/fn87XMHk5QZCg0BtZRObATtZAoloB5jJGvjwqtxHCItkTdGoUi4TY75N3FMTPowFYUXn2tjAtngJibqtGbZ/+PaS7E134Lsvxy5o2uaBgoV+U9Mg1poz1QAl0YTKDNMZjVILDbKIRq9e2C4X6e3SWQRW4LrBujBJp7Q8AJjKIspFOLt7PzxOwkSHES90iNgMW4Sn+uTKwQEcTrtTZCDm5Bynn5taepEXp2hj2cmuZEGJCXX8HOM9RgnWyeOVDcUPRCGAGrjA3y7VZGuEjdPE4DT32dmqJabHrPtrc0tgde5UfefS8ezzGOEheOmYQEtpIZLY2TwuNbhOIvIxNfnDA7H7ug1LtCSTejYkGU9CztGzKkyoWEMSTGQSd7aEddrdDS8gsOF6r+RmhCutjGejXFHFtVEcL8FJxczfLdbWDNdBl69IrZ8vlV6Ts4FojBO0/w6HAv24jyX1r+4n3ymPeJZb2SR7HQ/4L2In4ywuUdCkI2t2UuB0fHYgA+ibCVPoXg5Da698PlcozIlD/cmP+3OAnEU+yPElHmLrfjGLFwmWN28ikbluPx0be9B7sn4qTJUY0zrOBuv+wS47A7j5XXicpakCHJcqDaEuzWCa6e1JRmIDoitnr+2kNbGDYNPgKKJE8XDvWVZTgnG1NCGhTZJlTL37hZZIuwkA5RbpnOlrEldKjGnol9D209OuritES1GvlL2H7lDtRTiMnHPHcHMnVqPg5usk3F2Zw23PtC1YDaHvqxgyqaXlRslElFtLz2k9GV2QC3bUxVVlf6jQgPkDoQhKu63JjQtoPRrn0AAR37PsnsFZ74AAaAJkRcAAHaUzMuxxGf7AgAAAAAEWVo=')).decode('ascii'))\n",
        "print(\"Everything imported OK (ignore deprecated warnings)\")\n"
      ],
      "execution_count": 13,
      "outputs": [
        {
          "output_type": "stream",
          "name": "stdout",
          "text": [
            "Everything imported OK (ignore deprecated warnings)\n"
          ]
        }
      ]
    },
    {
      "cell_type": "code",
      "metadata": {
        "deletable": false,
        "editable": false,
        "nbgrader": {
          "checksum": "d865bf6cfa46bb90db8ec68d6a160e05",
          "grade": true,
          "grade_id": "cell-c0546e1f2c5393a3",
          "locked": true,
          "points": 0,
          "schema_version": 1,
          "solution": false
        },
        "id": "ZcaN6jndAkGA"
      },
      "source": [
        "# Hidden cell for utils needed when grading (you can/should not edit this)"
      ],
      "execution_count": 14,
      "outputs": []
    },
    {
      "cell_type": "markdown",
      "metadata": {
        "id": "qQn3DPQ8AkGA"
      },
      "source": [
        "---\n"
      ]
    },
    {
      "cell_type": "markdown",
      "metadata": {
        "id": "jN0aazTcAkGB"
      },
      "source": [
        "**Mini-task**: provide your personal details in two variables:\n",
        "\n",
        "* `student_id` : a string containing your student id (e.g. \"1234567x\"), must be 8 chars long.\n",
        "* `student_typewritten_signature`: a string with your name (e.g. \"Adam Smith\") which serves as a declaration that this is your own work (read the declaration of originality when you submit on Moodle).*"
      ]
    },
    {
      "cell_type": "code",
      "metadata": {
        "deletable": false,
        "nbgrader": {
          "checksum": "4d49a9488b31ad76732c48f4918d2ef9",
          "grade": false,
          "grade_id": "cell-d69352f8b7111c0c",
          "locked": false,
          "schema_version": 1,
          "solution": true
        },
        "id": "kNkJ2M-EAkGB"
      },
      "source": [
        "student_id = \"2664042v\" # your 8 char student id\n",
        "student_typewritten_signature = \"Sandhya Velati\" # your full name, avoid spceical chars if possible\n",
        "\n",
        "# YOUR CODE HERE\n",
        "#raise NotImplementedError()"
      ],
      "execution_count": 15,
      "outputs": []
    },
    {
      "cell_type": "code",
      "metadata": {
        "deletable": false,
        "editable": false,
        "nbgrader": {
          "checksum": "4f08754e74c739ad8adb692206073c0c",
          "grade": true,
          "grade_id": "cell-537c08751ed49078",
          "locked": true,
          "points": 0,
          "schema_version": 1,
          "solution": false
        },
        "id": "IZ4aFVpXAkGC",
        "colab": {
          "base_uri": "https://localhost:8080/",
          "height": 127
        },
        "outputId": "eb0cb064-bed7-4ab2-f5ca-6c4916d37e43"
      },
      "source": [
        "## We will print your info to a pdf file at the end of the notebook - \n",
        "# including the Declaration of Originality - which must be uploaded alongside \n",
        "# the actual notebook  you should also see two green checkmarks [0 marks] \n",
        "# indicating that your info meet the basic std)\n",
        "\n",
        "with tick.marks(0): # you don't get any credit for remembering your student id. This is just a test!\n",
        "    assert(len(student_id)==8)\n",
        "\n",
        "with tick.marks(0):  # you don't get any credit for remembering your own name! This is just a test!\n",
        "    assert(len(student_typewritten_signature)>0)"
      ],
      "execution_count": 16,
      "outputs": [
        {
          "output_type": "display_data",
          "data": {
            "text/html": [
              "\n",
              "        <div class=\"alert alert-box alert-success\">\n",
              "        <h1> <!--{id:\"CORRECTMARK\", marks:\"0\"}--> \n",
              "         ✓ [0 marks] \n",
              "         </h1> </div>"
            ],
            "text/plain": [
              "<IPython.core.display.HTML object>"
            ]
          },
          "metadata": {}
        },
        {
          "output_type": "display_data",
          "data": {
            "text/html": [
              "\n",
              "        <div class=\"alert alert-box alert-success\">\n",
              "        <h1> <!--{id:\"CORRECTMARK\", marks:\"0\"}--> \n",
              "         ✓ [0 marks] \n",
              "         </h1> </div>"
            ],
            "text/plain": [
              "<IPython.core.display.HTML object>"
            ]
          },
          "metadata": {}
        }
      ]
    },
    {
      "cell_type": "markdown",
      "metadata": {
        "id": "Nzzgf6RiAkGC"
      },
      "source": [
        "----"
      ]
    },
    {
      "cell_type": "markdown",
      "metadata": {
        "deletable": false,
        "editable": false,
        "nbgrader": {
          "checksum": "020177b250ea910ed7544ae174fd020e",
          "grade": false,
          "grade_id": "cell-e1bb0c4cf149f419",
          "locked": true,
          "schema_version": 1,
          "solution": false
        },
        "id": "WZF7tpCfAkGC"
      },
      "source": [
        "## Introduction\n",
        "## Whisky: Representing and comparing vectors"
      ]
    },
    {
      "cell_type": "markdown",
      "metadata": {
        "nbgrader": {
          "grade": false,
          "grade_id": "cell-0b856451f2bdefb0",
          "locked": false,
          "schema_version": 1,
          "solution": false
        },
        "id": "276wOvdeAkGC"
      },
      "source": [
        "Whisky distillation is a major industry in Scotland. \n",
        "\n",
        "<img src=\"https://github.com/Sandhya-ux/idss_lab_01_complinalg/blob/main/imgs/stills.jpg?raw=1\"> <br><br>*.[Image](https://flickr.com/photos/sashafatcat/518104633 \"stills\") by [sashafatcat](https://flickr.com/people/sashafatcat) shared [CC BY](https://creativecommons.org/licenses/by/2.0/)*\n",
        "\n",
        "The dataset in `data/whisky.csv` is data from a number of whisky distilleries. For each distillery, there is a set of subjective judgements about the flavour characteristics of their product. The data comes from [this Strathclyde University research project](https://www.mathstat.strath.ac.uk/outreach/nessie/nessie_whisky.html).\n",
        "\n",
        "Each distillery has been judged on twelve flavour indicators (like \"smokiness\" or \"sweetness\"), and they have been assigned values from 0-4, indicating the strength of that category as judged by an expert whisky drinker. These can be seen as 12D vectors, one vector per distillery. **Every distillery is represented as a point in twelve dimensional vector space.**\n",
        "\n",
        "We also have a 2D array of the geographical locations of each distillery. The code below loads the data.\n",
        "\n",
        "## Loading the data"
      ]
    },
    {
      "cell_type": "code",
      "metadata": {
        "ExecuteTime": {
          "end_time": "2020-10-15T13:21:55.978463Z",
          "start_time": "2020-10-15T13:21:55.704642Z"
        },
        "nbgrader": {
          "checksum": "1f50436283b5701f1a1560849047fa6e",
          "grade": false,
          "grade_id": "cell-82f12755a1eac3be",
          "locked": false,
          "schema_version": 1,
          "solution": false
        },
        "id": "FGvGUiOiAkGD"
      },
      "source": [
        "## It is not necessary to understand this code to complete the exercise. \n",
        "import pandas as pd\n",
        "\n",
        "whisky_df = pd.read_csv(\"data/whiskies.txt\")\n",
        "whisky_df = whisky_df.sort_values(by=\"Distillery\")\n",
        "# extract the column and row names\n",
        "distilleries = np.array(whisky_df[\"Distillery\"])\n",
        "\n",
        "columns = {name.lower(): index for index, name in enumerate(whisky_df.columns[2:-3])}\n",
        "\n",
        "# split apart the data frame and form numpy arrays\n",
        "locations = np.array(whisky_df.iloc[:, -2:])\n",
        "whisky = np.array(whisky_df.iloc[:, 2:-3])\n",
        "\n",
        "# fix wine column which is misnamed\n",
        "columns[\"wine\"] = columns[\"winey\"]\n",
        "del columns[\"winey\"]\n",
        "# force tie breaks\n",
        "np.random.seed(2018)\n",
        "whisky = whisky + np.random.normal(0, 0.1, whisky.shape)"
      ],
      "execution_count": 17,
      "outputs": []
    },
    {
      "cell_type": "markdown",
      "metadata": {
        "id": "cuMYCVEgAkGD"
      },
      "source": [
        "## Viewing the data"
      ]
    },
    {
      "cell_type": "markdown",
      "metadata": {
        "nbgrader": {
          "checksum": "60f7924646426f11a7188cc5379d9997",
          "grade": false,
          "grade_id": "cell-f567bc6d64c91261",
          "locked": false,
          "schema_version": 1,
          "solution": false
        },
        "id": "tVZ6Kk0xAkGD"
      },
      "source": [
        "We can see this whole dataset as a heatmap:"
      ]
    },
    {
      "cell_type": "code",
      "metadata": {
        "ExecuteTime": {
          "end_time": "2020-10-15T13:21:57.219029Z",
          "start_time": "2020-10-15T13:21:55.979439Z"
        },
        "id": "iBjkRg-RAkGE",
        "colab": {
          "base_uri": "https://localhost:8080/",
          "height": 1000
        },
        "outputId": "d2d3d594-f1a9-4c1d-bf45-a8b3624123f0"
      },
      "source": [
        "# show a plot of the whisky data\n",
        "fig = plt.figure(figsize=(10,25))\n",
        "ax = fig.add_subplot(1,1,1)\n",
        "\n",
        "# image plot\n",
        "img = ax.imshow(whisky)\n",
        "ax.set_yticks(np.arange(len(distilleries)))\n",
        "ax.set_yticklabels(distilleries, rotation=\"horizontal\", fontsize=12)\n",
        "\n",
        "# put the x axis at the top\n",
        "ax.xaxis.tick_top()\n",
        "ax.set_xticks(np.arange(len(columns)))\n",
        "ax.set_xticklabels(columns, rotation=\"vertical\", fontsize=12)\n",
        "\n",
        "# some horrific colorbar hackery to put in the right place\n",
        "# don't worry about this bit!\n",
        "cbaxes = fig.add_axes([0.37, 0.93, 0.28, 0.01])  \n",
        "fig.colorbar(img, orientation='horizontal',  cax=cbaxes, ticks=np.arange(5))\n",
        "cbaxes.xaxis.tick_top()"
      ],
      "execution_count": 18,
      "outputs": [
        {
          "output_type": "display_data",
          "data": {
            "image/png": "[encoded data removed]",
            "text/plain": [
              "<Figure size 1400x3500 with 2 Axes>"
            ]
          },
          "metadata": {
            "needs_background": "light"
          }
        }
      ]
    },
    {
      "cell_type": "markdown",
      "metadata": {
        "deletable": false,
        "editable": false,
        "nbgrader": {
          "checksum": "5fbc124e74c612941f66a89170adf6b1",
          "grade": false,
          "grade_id": "cell-0047215db37d3bd5",
          "locked": true,
          "schema_version": 1,
          "solution": false
        },
        "id": "x73A7RnNAkGE"
      },
      "source": [
        "### Available data\n",
        "You now have these variables:\n",
        "\n",
        "* `whisky` an  86x12 array of taste judgements, one row for each of the 86 distilleries. Each whisky has a rating 0-4 for each of the 12 flavour categories.\n",
        "* `distilleries` is a list of 86 distillery names\n",
        "* `columns` is a mapping of feature names to column indices.\n",
        "* `locations` is an 86x2 matrix of positions of each distillery in [OS grid reference format](https://www.gridreferencefinder.com/) in the same order as `whisky`\n",
        "\n",
        "For example:"
      ]
    },
    {
      "cell_type": "code",
      "metadata": {
        "ExecuteTime": {
          "end_time": "2020-10-15T13:21:57.223909Z",
          "start_time": "2020-10-15T13:21:57.220005Z"
        },
        "id": "fEZ58XVCAkGE",
        "colab": {
          "base_uri": "https://localhost:8080/"
        },
        "outputId": "97ddef40-239a-4196-e065-2bfab98948b7"
      },
      "source": [
        "print(whisky[distilleries.searchsorted('Glenfiddich'), \n",
        "             columns['smoky']])"
      ],
      "execution_count": 19,
      "outputs": [
        {
          "output_type": "stream",
          "name": "stdout",
          "text": [
            "1.2551637969677651\n"
          ]
        }
      ]
    },
    {
      "cell_type": "markdown",
      "metadata": {
        "deletable": false,
        "editable": false,
        "nbgrader": {
          "checksum": "459b0732b5b6b241117c82f16e8400b5",
          "grade": false,
          "grade_id": "cell-626072c14ad3a1ff",
          "locked": true,
          "schema_version": 1,
          "solution": false
        },
        "id": "9jNE6G5sAkGE"
      },
      "source": [
        "will tell you how \"smoky\" Glenfiddich was rated."
      ]
    },
    {
      "cell_type": "code",
      "metadata": {
        "ExecuteTime": {
          "end_time": "2020-10-15T13:21:57.239525Z",
          "start_time": "2020-10-15T13:21:57.224885Z"
        },
        "id": "IMthenRtAkGE",
        "colab": {
          "base_uri": "https://localhost:8080/"
        },
        "outputId": "d47dfa5e-ca9a-4442-81a0-ffe0e6a8da03"
      },
      "source": [
        "print(distilleries[8]) # distilleries is just a list of names"
      ],
      "execution_count": 20,
      "outputs": [
        {
          "output_type": "stream",
          "name": "stdout",
          "text": [
            "Aultmore\n"
          ]
        }
      ]
    },
    {
      "cell_type": "markdown",
      "metadata": {
        "id": "azrNgGevAkGF"
      },
      "source": [
        "will tell you the 9th distillery in the dataset is `Aultmore`."
      ]
    },
    {
      "cell_type": "code",
      "metadata": {
        "ExecuteTime": {
          "end_time": "2020-10-15T13:21:57.269782Z",
          "start_time": "2020-10-15T13:21:57.241477Z"
        },
        "id": "Ikek2axYAkGF",
        "colab": {
          "base_uri": "https://localhost:8080/"
        },
        "outputId": "7752b5bb-0c0a-44c9-aa12-dab74e6ce316"
      },
      "source": [
        "print(locations[distilleries.searchsorted('Glengoyne')])"
      ],
      "execution_count": 21,
      "outputs": [
        {
          "output_type": "stream",
          "name": "stdout",
          "text": [
            "[252810 682750]\n"
          ]
        }
      ]
    },
    {
      "cell_type": "markdown",
      "metadata": {
        "id": "qEsjvdWZAkGF"
      },
      "source": [
        "will tell you where to find the Glengoyne distillery in UK OS grid units."
      ]
    },
    {
      "cell_type": "markdown",
      "metadata": {
        "id": "BmHgMUt_AkGF"
      },
      "source": [
        "----"
      ]
    },
    {
      "cell_type": "markdown",
      "metadata": {
        "id": "M7Z28DhXAkGF"
      },
      "source": [
        "## Task A: Norms, interpolation and statistics\n",
        "We will see some simple things we can do with this dataset. \n"
      ]
    },
    {
      "cell_type": "markdown",
      "metadata": {
        "id": "5A2R8eIYAkGF"
      },
      "source": [
        "We can compute distances in **flavour space** between distilleries.\n",
        "\n",
        "For example, we can compute the distance between the `Glenlivet` distillery and every other distillery *in terms of flavour, not physical distance*. The result will be a 1D array of 86 distances. \n",
        "\n",
        "Remember: distance between $\\vec{x}$ and $\\vec{y}$ is the norm of their difference: $\\|\\vec{x}-\\vec{y}\\|$\n",
        "\n",
        "We can compute this for several different norms (e.g. $L_1, L_2$, and $L_\\infty$)\n",
        "\n",
        "We start by subtracting the flavour vector for `Glenlivet` from all the other flavour vectors in the `whisky` matrix.\n",
        "\n",
        "We then use `np.linalg.norm` to compute the norm of every row vector in the resulting matrix. We set `axis=1` to ensure that norms are calculated \"across columns\", i.e. the norm of each row vector is calculated. We also specify which norm we want to calculate (`1` for $L_1$, `2` for $L_2$ or `np.inf` for $L_\\infty$). The result is a 1D array of 86 distances in **flavour space**."
      ]
    },
    {
      "cell_type": "code",
      "metadata": {
        "ExecuteTime": {
          "end_time": "2020-10-15T13:21:57.285396Z",
          "start_time": "2020-10-15T13:21:57.272709Z"
        },
        "id": "2cpN9uwCAkGG"
      },
      "source": [
        "# Get the flavour vector for Glenlivet\n",
        "glenlivet = whisky[distilleries.searchsorted(\"Glenlivet\")]\n",
        "print(glenlivet)"
      ],
      "execution_count": null,
      "outputs": []
    },
    {
      "cell_type": "code",
      "metadata": {
        "ExecuteTime": {
          "end_time": "2020-10-15T13:21:57.301012Z",
          "start_time": "2020-10-15T13:21:57.286373Z"
        },
        "id": "kTYvvluqAkGG"
      },
      "source": [
        "## Compute distances\n",
        "# must use axis=1 to get the right result, otherwise the matrix norm will be used\n",
        "# (the matrix norm is calculated across the whole matrix, rather than across each row vector!)\n",
        "glenlivet_1 = np.linalg.norm(whisky - glenlivet, 1, axis=1)  # L_1\n",
        "glenlivet_2 = np.linalg.norm(whisky - glenlivet, 2, axis=1)  # L_2\n",
        "glenlivet_inf = np.linalg.norm(whisky - glenlivet, np.inf, axis=1)  # L_inf"
      ],
      "execution_count": null,
      "outputs": []
    },
    {
      "cell_type": "markdown",
      "metadata": {
        "id": "nwKLkbDkAkGG"
      },
      "source": [
        "### Visualising these distances\n",
        "We can visualise these distances. This lets us see which distilleries produce whisky most similar to Glenlivet and which of them are most dissimilar. Note that we can use `argsort` to order a list of distances. Below, we plot a faceted graph, one facet for each norm, showing each distillery's flavour distance to `Glenlivet` as a rank bar plot (see Unit 3). The labels are a bit small, but the graphs are a useful summary of the distances in this abstract 12 dimensional space."
      ]
    },
    {
      "cell_type": "code",
      "metadata": {
        "ExecuteTime": {
          "end_time": "2020-10-15T13:27:00.033121Z",
          "start_time": "2020-10-15T13:26:59.315149Z"
        },
        "id": "6eE9CR2RAkGG"
      },
      "source": [
        "fig = plt.figure(figsize=(15, 22.5))\n",
        "\n",
        "# you can use this utility function to\n",
        "# help you get the xticklabels in order\n",
        "def list_in_order(alist, order):\n",
        "    \"\"\"Given a list 'alist' and a list of indices 'order'\n",
        "    returns the list in the order given by the indices\"\"\"\n",
        "    return [alist[i] for i in order]\n",
        "\n",
        "\n",
        "def rank_plot(distances):\n",
        "    # find the ordering of the distances\n",
        "    order = np.argsort(distances)\n",
        "    # bar plot them\n",
        "    ax.bar(np.arange(len(distances)), distances[order])\n",
        "    ax.set_xlabel(\"Distillery\", fontsize=12)\n",
        "    ax.set_ylabel(\"Distance to Glenlivet (in flavour space)\", fontsize=12)\n",
        "    ax.set_xticks(np.arange(86))\n",
        "    ax.set_frame_on(False)\n",
        "    # make sure the same order is used for the labels!\n",
        "    ax.set_xticklabels(\n",
        "        list_in_order(distilleries, order), rotation=\"vertical\", fontsize=8\n",
        "    )\n",
        "\n",
        "\n",
        "# make the plots\n",
        "ax = fig.add_subplot(3, 1, 1)\n",
        "ax.set_title(\"$L_2$ norm\", fontsize=16)\n",
        "rank_plot(glenlivet_2)\n",
        "ax = fig.add_subplot(3, 1, 2)\n",
        "ax.set_title(\"$L_1$ norm\", fontsize=16)\n",
        "rank_plot(glenlivet_1)\n",
        "ax = fig.add_subplot(3, 1, 3)\n",
        "ax.set_title(\"$L_\\infty$ norm\", fontsize=16)\n",
        "rank_plot(glenlivet_inf)\n",
        "\n",
        "# removes ugly overlapping\n",
        "plt.tight_layout()"
      ],
      "execution_count": null,
      "outputs": []
    },
    {
      "cell_type": "markdown",
      "metadata": {
        "id": "Yy1qAKzMAkGG"
      },
      "source": [
        "**Task A.1** \n",
        "\n",
        "Compute the $L_2$ distance between Glenfiddich and Lagavulin's flavour profiles. \n",
        "- Store in a variable called `glenfiddich_lagavulin`"
      ]
    },
    {
      "cell_type": "code",
      "metadata": {
        "ExecuteTime": {
          "end_time": "2020-10-15T13:22:00.774040Z",
          "start_time": "2020-10-15T13:22:00.770135Z"
        },
        "deletable": false,
        "nbgrader": {
          "checksum": "cd5660ed6efaa29b98e82f98fe250698",
          "grade": false,
          "grade_id": "cell-1acc60e9ed7c8c42",
          "locked": false,
          "schema_version": 1,
          "solution": true
        },
        "id": "HVPd7G8AAkGH"
      },
      "source": [
        "# YOUR CODE HERE\n",
        "raise NotImplementedError()"
      ],
      "execution_count": null,
      "outputs": []
    },
    {
      "cell_type": "code",
      "metadata": {
        "ExecuteTime": {
          "end_time": "2020-10-15T13:22:00.791140Z",
          "start_time": "2020-10-15T13:22:00.776501Z"
        },
        "deletable": false,
        "editable": false,
        "nbgrader": {
          "checksum": "bfdc2ee3405722cb79bb85786dd067a8",
          "grade": true,
          "grade_id": "cell-d202f70c3dedec37",
          "locked": false,
          "points": 2,
          "schema_version": 1,
          "solution": false
        },
        "id": "3x2ae9rFAkGH"
      },
      "source": [
        "\n",
        "with tick.marks(2):        \n",
        "    assert(check_hash(glenfiddich_lagavulin, ((), 34.70608276182724)))"
      ],
      "execution_count": null,
      "outputs": []
    },
    {
      "cell_type": "markdown",
      "metadata": {
        "id": "pYfh-fZXAkGI"
      },
      "source": [
        "**Task A.2** \n",
        "Which distillery is closest to Ardbeg's flavour profile in the $L_\\infty$ norm? Store the distillery **name** in the variable in `like_ardbeg`. Note: compute this - do not hardcode it.\n"
      ]
    },
    {
      "cell_type": "code",
      "metadata": {
        "ExecuteTime": {
          "end_time": "2020-10-15T13:22:00.821396Z",
          "start_time": "2020-10-15T13:22:00.792116Z"
        },
        "deletable": false,
        "nbgrader": {
          "checksum": "7e078100248c3bff9b59c36ee4004173",
          "grade": false,
          "grade_id": "cell-307265343109c4f2",
          "locked": false,
          "schema_version": 1,
          "solution": true
        },
        "id": "3mxLTXZRAkGI"
      },
      "source": [
        "# YOUR CODE HERE\n",
        "raise NotImplementedError()"
      ],
      "execution_count": null,
      "outputs": []
    },
    {
      "cell_type": "code",
      "metadata": {
        "ExecuteTime": {
          "end_time": "2020-10-15T13:22:00.837989Z",
          "start_time": "2020-10-15T13:22:00.822372Z"
        },
        "id": "cJttrb6tAkGI"
      },
      "source": [
        "print(\"The distillery most like Ardbeg (according to the L_inf norm) is {distillery}.\".\n",
        "          format(distillery=like_ardbeg ))"
      ],
      "execution_count": null,
      "outputs": []
    },
    {
      "cell_type": "code",
      "metadata": {
        "ExecuteTime": {
          "end_time": "2020-10-15T13:23:26.607820Z",
          "start_time": "2020-10-15T13:23:26.602941Z"
        },
        "deletable": false,
        "editable": false,
        "nbgrader": {
          "checksum": "37d0e4a401c6a7a6ba8c173e54d5d5f0",
          "grade": true,
          "grade_id": "cell-a0ae85732a13f420",
          "locked": false,
          "points": 2,
          "schema_version": 1,
          "solution": false
        },
        "id": "vIxec-f5AkGI"
      },
      "source": [
        "\n",
        "with tick.marks(2):        \n",
        "    assert(case_crc(like_ardbeg)==1878156447)"
      ],
      "execution_count": null,
      "outputs": []
    },
    {
      "cell_type": "markdown",
      "metadata": {
        "ExecuteTime": {
          "end_time": "2020-10-15T13:24:34.313152Z",
          "start_time": "2020-10-15T13:24:34.308273Z"
        },
        "id": "Bps38vY6AkGI"
      },
      "source": [
        "Which distillery is *geographically furthest* from Ardbeg (using L_2 norm)? Store the distillery name in a variable called `furthest_ardbeg`."
      ]
    },
    {
      "cell_type": "code",
      "metadata": {
        "ExecuteTime": {
          "end_time": "2020-10-15T13:25:21.014316Z",
          "start_time": "2020-10-15T13:25:21.008460Z"
        },
        "deletable": false,
        "nbgrader": {
          "checksum": "b30afe3dff520a618588a48749d91ff2",
          "grade": false,
          "grade_id": "cell-19128796b20d1001",
          "locked": false,
          "schema_version": 1,
          "solution": true
        },
        "id": "kt8-9TvzAkGI"
      },
      "source": [
        "# YOUR CODE HERE\n",
        "raise NotImplementedError()"
      ],
      "execution_count": null,
      "outputs": []
    },
    {
      "cell_type": "code",
      "metadata": {
        "deletable": false,
        "editable": false,
        "nbgrader": {
          "checksum": "09c84f84bab28bd181426a9dbe49b830",
          "grade": true,
          "grade_id": "cell-e4531748e9e61a73",
          "locked": true,
          "points": 0,
          "schema_version": 1,
          "solution": false
        },
        "id": "UEHZwdsYAkGJ"
      },
      "source": [
        "# Sanity check. Validate that furthest_ardbeg is a str. \n",
        "# This test needs to pass for the hidden test to run correctly.\n",
        "with tick.marks(0):        \n",
        "    assert(type(furthest_ardbeg)==str)"
      ],
      "execution_count": null,
      "outputs": []
    },
    {
      "cell_type": "code",
      "metadata": {
        "ExecuteTime": {
          "end_time": "2020-10-15T13:25:37.130234Z",
          "start_time": "2020-10-15T13:25:37.125354Z"
        },
        "deletable": false,
        "editable": false,
        "nbgrader": {
          "checksum": "aace95ce8cb33926da142d6ea1d0cdd3",
          "grade": true,
          "grade_id": "cell-6d46877260b5ef06",
          "locked": true,
          "points": 0,
          "schema_version": 1,
          "solution": false
        },
        "id": "9FlDsHMEAkGJ"
      },
      "source": [
        "# Hidden test checking furthest_ardbeg [3 marks]"
      ],
      "execution_count": null,
      "outputs": []
    },
    {
      "cell_type": "markdown",
      "metadata": {
        "nbgrader": {
          "checksum": "95171daaa5784a624eea7fd2d2db689a",
          "grade": false,
          "grade_id": "cell-bb107ebb050bd270",
          "locked": false,
          "schema_version": 1,
          "solution": false
        },
        "id": "Mc6OVovFAkGJ"
      },
      "source": [
        "**Note** from now on, use the $L_2$ norm if you need to compute any norms.\n",
        "\n",
        "\n",
        "### Vector arithmetic\n",
        "A client says to you:\n",
        "    \n",
        ">    I'd like something a bit more \"mellow\" than Tormore, in the same way that Glenmorangie is more \"mellow\" than Bowmore.\n",
        "\n",
        "Which whisky should you recommend? \n",
        "\n",
        "We can work this out:\n",
        "* What does more \"mellow\" mean? We don't have a \"mellow\" column.\n",
        "    * But we do have a reference point: Bowmore -> Glenmorangie is somehow \"mellow\"\n",
        "    * This \"direction\" between these flavour vectors is *also* a vector\n",
        "* How do we combine Tormore's flavour profile with \"mellow\"? We can compose vectors by addition.\n",
        "* How do we find a distillery that represents this profile? We can compute lengths of vectors using a norm.\n",
        "\n",
        "**Task A.3** Compute:\n",
        "* `mellow` A vector representing what \"mellow\" is.\n",
        "* `hypothetical_flavour` A vector representing a hypothetical flavour that would be a more mellow version of Tormore.\n",
        "* `recommendation` the name of a specific distillery that we might recommend, as a string.\n",
        "\n",
        "**Note: this question is not subjective, nor does it require any trial-and-error or knowledge about whisky. Answer it directly using vector arithmetic.**"
      ]
    },
    {
      "cell_type": "code",
      "metadata": {
        "ExecuteTime": {
          "end_time": "2020-10-15T13:22:00.880461Z",
          "start_time": "2020-10-15T13:22:00.858484Z"
        },
        "deletable": false,
        "nbgrader": {
          "checksum": "f3fbccbc95fe03cf9363e74e65ab5c6f",
          "grade": false,
          "grade_id": "cell-ec141fe141891e1e",
          "locked": false,
          "schema_version": 1,
          "solution": true
        },
        "id": "Fj7is03pAkGJ"
      },
      "source": [
        "# YOUR CODE HERE\n",
        "raise NotImplementedError()"
      ],
      "execution_count": null,
      "outputs": []
    },
    {
      "cell_type": "code",
      "metadata": {
        "ExecuteTime": {
          "end_time": "2020-10-15T13:22:00.897053Z",
          "start_time": "2020-10-15T13:22:00.881437Z"
        },
        "id": "eVTiHo_FAkGJ"
      },
      "source": [
        "print(\"I would recommend {distillery} as a more 'mellow' version of Tormore.\".format(distillery=recommendation))"
      ],
      "execution_count": null,
      "outputs": []
    },
    {
      "cell_type": "code",
      "metadata": {
        "ExecuteTime": {
          "end_time": "2020-10-15T13:22:00.914621Z",
          "start_time": "2020-10-15T13:22:00.898029Z"
        },
        "deletable": false,
        "editable": false,
        "nbgrader": {
          "checksum": "2a171ee33a2d3499d928676cf3432e14",
          "grade": true,
          "grade_id": "cell-25e7b70be3c60dc4",
          "locked": false,
          "points": 3,
          "schema_version": 1,
          "solution": false
        },
        "id": "soIidC9zAkGJ"
      },
      "source": [
        "\n",
        "with tick.marks(3):\n",
        "    assert(check_hash(mellow, ((12,), -3.374787460507174)))"
      ],
      "execution_count": null,
      "outputs": []
    },
    {
      "cell_type": "code",
      "metadata": {
        "ExecuteTime": {
          "end_time": "2020-10-15T13:22:00.931214Z",
          "start_time": "2020-10-15T13:22:00.917549Z"
        },
        "deletable": false,
        "editable": false,
        "nbgrader": {
          "checksum": "b9178f0cda8b445eef05b629325204aa",
          "grade": true,
          "grade_id": "cell-ba243540c5e942e7",
          "locked": false,
          "points": 4,
          "schema_version": 1,
          "solution": false
        },
        "id": "mzMV4IMKAkGJ"
      },
      "source": [
        "with tick.marks(4):\n",
        "    assert(check_hash(hypothetical_flavour,((12,), 49.63291973521592)))"
      ],
      "execution_count": null,
      "outputs": []
    },
    {
      "cell_type": "code",
      "metadata": {
        "deletable": false,
        "editable": false,
        "nbgrader": {
          "checksum": "84d18198bc0c0c8d0ed582bfb30c74d5",
          "grade": true,
          "grade_id": "cell-17dca91cc6878972",
          "locked": true,
          "points": 0,
          "schema_version": 1,
          "solution": false
        },
        "id": "-avDPjRaAkGK"
      },
      "source": [
        "# Sanity check. Validate that furthest_ardbeg is a str. \n",
        "# This test needs to pass for the hidden test to run correctly.\n",
        "with tick.marks(0):        \n",
        "    assert(type(recommendation)==str)"
      ],
      "execution_count": null,
      "outputs": []
    },
    {
      "cell_type": "code",
      "metadata": {
        "ExecuteTime": {
          "end_time": "2020-10-15T13:22:00.953661Z",
          "start_time": "2020-10-15T13:22:00.933166Z"
        },
        "deletable": false,
        "editable": false,
        "nbgrader": {
          "checksum": "42ebc90e0385dc0e5000d0aa97d44284",
          "grade": true,
          "grade_id": "cell-78eb86cda8526382",
          "locked": false,
          "points": 4,
          "schema_version": 1,
          "solution": false
        },
        "id": "_SERkomNAkGK"
      },
      "source": [
        "# Hidden test checking recommendation [4 marks]"
      ],
      "execution_count": null,
      "outputs": []
    },
    {
      "cell_type": "markdown",
      "metadata": {
        "deletable": false,
        "editable": false,
        "nbgrader": {
          "checksum": "75fb7dc993698f69b094d9c2d4c404eb",
          "grade": false,
          "grade_id": "cell-a6cd63f999274994",
          "locked": true,
          "schema_version": 1,
          "solution": false
        },
        "id": "uNxwMkIvAkGK"
      },
      "source": [
        "**Task A.4** A client wishes to taste whiskies than span a spectrum of flavours. You have been told:\n",
        "\n",
        "* `Lagavulin` represents one end of this spectrum\n",
        "* `Auchentoshan` represents the other end of this spectrum.\n",
        "\n",
        "Find a sequence of *five* distilleries, as evenly spaced across this spectrum as possible. Store the names in a list `tour`, which should begin \"Lagavulin\" and end in \"Auchentoshan\"."
      ]
    },
    {
      "cell_type": "code",
      "metadata": {
        "ExecuteTime": {
          "end_time": "2020-10-15T13:22:00.969277Z",
          "start_time": "2020-10-15T13:22:00.954638Z"
        },
        "deletable": false,
        "nbgrader": {
          "checksum": "6dc538e594a48044c6ae499b0a584880",
          "grade": false,
          "grade_id": "cell-94848d23478c59fa",
          "locked": false,
          "schema_version": 1,
          "solution": true
        },
        "id": "MOL1gh_WAkGK"
      },
      "source": [
        "# YOUR CODE HERE\n",
        "raise NotImplementedError()"
      ],
      "execution_count": null,
      "outputs": []
    },
    {
      "cell_type": "code",
      "metadata": {
        "ExecuteTime": {
          "end_time": "2020-10-15T13:22:00.986377Z",
          "start_time": "2020-10-15T13:22:00.970253Z"
        },
        "id": "p-8btkxGAkGK"
      },
      "source": [
        "print(\"The recommended flavour tour from Lagavulin to Auchentoshan is:\")\n",
        "\n",
        "for distillery in tour:\n",
        "    print(\"\\t\", distillery)\n"
      ],
      "execution_count": null,
      "outputs": []
    },
    {
      "cell_type": "code",
      "metadata": {
        "ExecuteTime": {
          "end_time": "2020-10-15T13:22:01.002968Z",
          "start_time": "2020-10-15T13:22:00.988330Z"
        },
        "deletable": false,
        "editable": false,
        "nbgrader": {
          "checksum": "8ac1631b511fd0e34a0159bf491e5448",
          "grade": true,
          "grade_id": "cell-c674606591b6562a",
          "locked": false,
          "points": 3,
          "schema_version": 1,
          "solution": false
        },
        "id": "twiCwyalAkGK"
      },
      "source": [
        "\n",
        "with tick.marks(3):\n",
        "    assert(case_crc(tour[0])==3089990555)\n",
        "    assert(case_crc(tour[1])==1878156447)\n",
        "    assert(case_crc(tour[2])==2088351511)    "
      ],
      "execution_count": null,
      "outputs": []
    },
    {
      "cell_type": "code",
      "metadata": {
        "deletable": false,
        "editable": false,
        "nbgrader": {
          "checksum": "5ebe9ddde84da86e0b05eea19027ef17",
          "grade": true,
          "grade_id": "cell-d04f06d323289040",
          "locked": true,
          "points": 3,
          "schema_version": 1,
          "solution": false
        },
        "id": "YMJQYIG3AkGK"
      },
      "source": [
        "# A hidden test that tests the last two items in the list (3 marks)\n",
        "# Note: You need to ensure that tour[3] and tour[4] contain the correct answers.\n"
      ],
      "execution_count": null,
      "outputs": []
    },
    {
      "cell_type": "markdown",
      "metadata": {
        "deletable": false,
        "editable": false,
        "nbgrader": {
          "checksum": "0b51bf1bc1a39038399ea154d3299628",
          "grade": false,
          "grade_id": "cell-883cc8ad5519c6d7",
          "locked": true,
          "schema_version": 1,
          "solution": false
        },
        "id": "Pryt9FrJAkGK"
      },
      "source": [
        "## Region flavours\n",
        "\n",
        "We could say that the \"representative\" element of a collection of vectors was the one closest to the geometric centroid. This is given by the **mean vector** of a data set (computed below).\n",
        "\n",
        "**Task A.5** Compute the mean vector of all of the flavour vectors. Use it to find the names of two distilleries:\n",
        "* `most_representative` The distillery with the **most** representative flavour profile\n",
        "* `least_representative` The distillery with the **least** representative flavour profile"
      ]
    },
    {
      "cell_type": "code",
      "metadata": {
        "id": "3e5Sqr7-AkGL"
      },
      "source": [
        "mean_vector = np.mean(whisky, axis=0)"
      ],
      "execution_count": null,
      "outputs": []
    },
    {
      "cell_type": "code",
      "metadata": {
        "ExecuteTime": {
          "end_time": "2020-10-15T13:22:01.017608Z",
          "start_time": "2020-10-15T13:22:01.003945Z"
        },
        "deletable": false,
        "nbgrader": {
          "checksum": "ecb9dc33c98ee7e051f7742b31576569",
          "grade": false,
          "grade_id": "cell-3242a48a43975acc",
          "locked": false,
          "schema_version": 1,
          "solution": true
        },
        "id": "hhezMjfEAkGL"
      },
      "source": [
        "# YOUR CODE HERE\n",
        "raise NotImplementedError()"
      ],
      "execution_count": null,
      "outputs": []
    },
    {
      "cell_type": "code",
      "metadata": {
        "ExecuteTime": {
          "end_time": "2020-10-15T13:22:01.033224Z",
          "start_time": "2020-10-15T13:22:01.018584Z"
        },
        "id": "hVGDYavSAkGL"
      },
      "source": [
        "print(\"The most representative whisky distillery is {most}, and the most unusual is {least}.\".format(most=most_representative,\n",
        "                                                                                           least=least_representative))"
      ],
      "execution_count": null,
      "outputs": []
    },
    {
      "cell_type": "code",
      "metadata": {
        "ExecuteTime": {
          "end_time": "2020-10-15T13:22:01.055673Z",
          "start_time": "2020-10-15T13:22:01.034200Z"
        },
        "deletable": false,
        "editable": false,
        "nbgrader": {
          "checksum": "7be20b36e8bba05a4ccb9c271e7a6ca6",
          "grade": true,
          "grade_id": "cell-4b32d3ff9b60718d",
          "locked": false,
          "points": 3,
          "schema_version": 1,
          "solution": false
        },
        "id": "bECYIfjhAkGL"
      },
      "source": [
        "\n",
        "with tick.marks(3):\n",
        "    assert(case_crc(most_representative)==125187962)    "
      ],
      "execution_count": null,
      "outputs": []
    },
    {
      "cell_type": "code",
      "metadata": {
        "deletable": false,
        "editable": false,
        "nbgrader": {
          "checksum": "acd2558189c02baf70d4e2e3dd38e014",
          "grade": true,
          "grade_id": "cell-87c09969dbaa1e5c",
          "locked": true,
          "points": 3,
          "schema_version": 1,
          "solution": false
        },
        "id": "mE8CvdbmAkGL"
      },
      "source": [
        "# Hidden test checking least_representative [3 marks]\n",
        "# Note: Make sure type(least_representative) is str"
      ],
      "execution_count": null,
      "outputs": []
    },
    {
      "cell_type": "markdown",
      "metadata": {
        "id": "_3MhiOvqAkGL"
      },
      "source": [
        "\n",
        "### A map\n",
        "The code below will show a map of Scotland, with the distilleries in their correct positions. Different geographic regions have different characteristic flavour profiles.\n",
        "\n",
        "One very distinctive region is the **island** region. This is a region bounded roughly by the box\n",
        "\n",
        "    95000, 625000 -> 183000, 860000\n",
        "    \n",
        "in the same OS grid units used in the `locations` array. This is highlighted on the map below.\n"
      ]
    },
    {
      "cell_type": "code",
      "metadata": {
        "ExecuteTime": {
          "end_time": "2020-10-15T13:22:01.611020Z",
          "start_time": "2020-10-15T13:22:01.056648Z"
        },
        "id": "0RraVyU4AkGL"
      },
      "source": [
        "from whisky_map import draw_map, map_box\n",
        "\n",
        "# draw each distillery label at the locations given.\n",
        "ax = draw_map(locations, distilleries)\n",
        "\n",
        "# show the island region\n",
        "# draw a box in OS grid units\n",
        "map_box(ax, 95000, 625000, 183000, 860000)"
      ],
      "execution_count": null,
      "outputs": []
    },
    {
      "cell_type": "markdown",
      "metadata": {
        "id": "8mnuPAZwAkGM"
      },
      "source": [
        "**Task A.6**\n",
        "* Find all distilleries in island and use this to answer these questions:\n",
        "* `island_flavour`: Compute the most typical whisky flavour profile for island whiskies. (i.e. a 12 element vector).\n",
        "* `most_typical_island`: The specific name of the distillery from the islands that is most typical of that region;\n",
        "* `most_atypical_island`: The specific name of the distillery from the islands that is most atypical of that region (i.e. furthest from the typical);\n",
        "* `most_typical_non_island`: The specific name of the distillery from **outside** island that is most typical of that region;\n",
        "* `most_like_island`: The specific name of the distillery from **outside** the islands that is most like a typical island distillery.\n",
        "\n",
        "**Note:** do not do any of this by hand. Write code.\n",
        "Hint: Boolean arrays."
      ]
    },
    {
      "cell_type": "code",
      "metadata": {
        "ExecuteTime": {
          "end_time": "2020-10-15T13:22:01.681796Z",
          "start_time": "2020-10-15T13:22:01.612968Z"
        },
        "deletable": false,
        "nbgrader": {
          "checksum": "a0889378a7cd23f054c35e5ecc8df44f",
          "grade": false,
          "grade_id": "cell-da4e4c13160bcd2c",
          "locked": false,
          "schema_version": 1,
          "solution": true
        },
        "id": "mFsiJ4AIAkGM"
      },
      "source": [
        "# YOUR CODE HERE\n",
        "raise NotImplementedError()"
      ],
      "execution_count": null,
      "outputs": []
    },
    {
      "cell_type": "code",
      "metadata": {
        "ExecuteTime": {
          "end_time": "2020-10-15T13:22:01.699363Z",
          "start_time": "2020-10-15T13:22:01.682772Z"
        },
        "deletable": false,
        "editable": false,
        "nbgrader": {
          "checksum": "6d1f9c8ced7621d14113a3fe047a9b44",
          "grade": true,
          "grade_id": "cell-e68f0048ec3c2544",
          "locked": false,
          "points": 2,
          "schema_version": 1,
          "solution": false
        },
        "id": "Vu42Vu7HAkGM"
      },
      "source": [
        "\n",
        "with tick.marks(2):\n",
        "    assert(check_hash(island_flavour, ((12,), 104.99538270254608)))"
      ],
      "execution_count": null,
      "outputs": []
    },
    {
      "cell_type": "code",
      "metadata": {
        "ExecuteTime": {
          "end_time": "2020-10-15T13:22:01.716932Z",
          "start_time": "2020-10-15T13:22:01.700339Z"
        },
        "id": "x3pNMRlIAkGM"
      },
      "source": [
        "print(\"The most typical whisky of the island region is {most}.\".format(most=most_typical_island))\n",
        "print(\"The most atypical whisky of the island region is {most}.\".format(most=most_atypical_island))\n",
        "print(\"The most typical non-island whisky is {most}.\".format(most=most_typical_non_island))\n",
        "print(\"The non-island whisky most like island whiskies is {nonisland}.\".format(nonisland=most_like_island))       "
      ],
      "execution_count": null,
      "outputs": []
    },
    {
      "cell_type": "code",
      "metadata": {
        "ExecuteTime": {
          "end_time": "2020-10-15T13:22:01.733523Z",
          "start_time": "2020-10-15T13:22:01.718884Z"
        },
        "deletable": false,
        "editable": false,
        "nbgrader": {
          "checksum": "c7c058459bb44e0c750cd1c75b9bc36a",
          "grade": true,
          "grade_id": "cell-3d6bf063f0e5a993",
          "locked": false,
          "points": 2,
          "schema_version": 1,
          "solution": false
        },
        "id": "dottKj2xAkGM"
      },
      "source": [
        "with tick.marks(2):\n",
        "    assert(case_crc(most_typical_island)==3459837550)"
      ],
      "execution_count": null,
      "outputs": []
    },
    {
      "cell_type": "code",
      "metadata": {
        "ExecuteTime": {
          "end_time": "2020-10-15T13:22:01.752068Z",
          "start_time": "2020-10-15T13:22:01.734500Z"
        },
        "deletable": false,
        "editable": false,
        "nbgrader": {
          "checksum": "8105191d07eeaebfd0d4da1ef5d2b2d1",
          "grade": true,
          "grade_id": "cell-9542548c0936467b",
          "locked": true,
          "points": 2,
          "schema_version": 1,
          "solution": false
        },
        "id": "Wrx6_F2IAkGM"
      },
      "source": [
        "with tick.marks(2):\n",
        "    assert(case_crc(most_atypical_island)==999830981)"
      ],
      "execution_count": null,
      "outputs": []
    },
    {
      "cell_type": "code",
      "metadata": {
        "ExecuteTime": {
          "end_time": "2020-10-15T13:22:01.766707Z",
          "start_time": "2020-10-15T13:22:01.753044Z"
        },
        "deletable": false,
        "editable": false,
        "nbgrader": {
          "checksum": "e7ba99a153327df109b2fad34a8bd7a7",
          "grade": true,
          "grade_id": "cell-3d6bf063f0e5a993e",
          "locked": false,
          "points": 4,
          "schema_version": 1,
          "solution": false
        },
        "id": "UFxqJKnLAkGM"
      },
      "source": [
        "# Hidden test checking most_typical_non_island [4 marks]\n",
        "# Note: Make sure most_typical_non_island is a str\n"
      ],
      "execution_count": null,
      "outputs": []
    },
    {
      "cell_type": "code",
      "metadata": {
        "ExecuteTime": {
          "end_time": "2020-10-15T13:22:01.784785Z",
          "start_time": "2020-10-15T13:22:01.767683Z"
        },
        "deletable": false,
        "editable": false,
        "nbgrader": {
          "checksum": "7ddf2f273daa58f5b103d753af0aea8e",
          "grade": true,
          "grade_id": "cell-3d6bf063f0e5a993f",
          "locked": false,
          "points": 4,
          "schema_version": 1,
          "solution": false
        },
        "id": "tVqZ8swuAkGM"
      },
      "source": [
        "# Hidden test checking most_typical_non_island [5 marks]\n",
        "# Note: Make sure most_like_island is a str\n"
      ],
      "execution_count": null,
      "outputs": []
    },
    {
      "cell_type": "markdown",
      "metadata": {
        "deletable": false,
        "editable": false,
        "nbgrader": {
          "checksum": "bf58b796ee88bc14ef57fb0b5a02bf0c",
          "grade": false,
          "grade_id": "cell-0adc91a40e263989",
          "locked": true,
          "schema_version": 1,
          "solution": false
        },
        "id": "HjeZHyjqAkGN"
      },
      "source": [
        "---"
      ]
    },
    {
      "cell_type": "markdown",
      "metadata": {
        "deletable": false,
        "editable": false,
        "nbgrader": {
          "checksum": "fa22be0c95ce3d40b8c83042ae68ce26",
          "grade": false,
          "grade_id": "cell-174ec357ef71e50a",
          "locked": true,
          "schema_version": 1,
          "solution": false
        },
        "id": "tgVqJTn4AkGN"
      },
      "source": [
        "\n",
        "# Task B: Eigendecompositions and whitening\n",
        "This part uses ideas from Week 3 of the course. You may wish to wait until after the Week 3 lecture to attempt this section. \n",
        "\n",
        "You are welcome to attempt it in advance, but you will have to do your own research.\n",
        "\n"
      ]
    },
    {
      "cell_type": "markdown",
      "metadata": {
        "id": "tBy_SJTuAkGN"
      },
      "source": [
        "## Focusing data\n",
        "<img src=\"https://github.com/Sandhya-ux/idss_lab_01_complinalg/blob/main/imgs/drop.jpg?raw=1\" width=\"40%\"> <br><br>*~[Image](https://flickr.com/photos/predi/236902022 \"just a droplet, but upside down\") by [Predi](https://flickr.com/people/predi) shared [CC BY-ND](https://creativecommons.org/licenses/by-nd/2.0/)*\n",
        "\n",
        "This part will use  matrix decompositions to form abstract \"lenses\" that let us see data from different perspectives. This will let us pull out hidden structure and translate among representations."
      ]
    },
    {
      "cell_type": "markdown",
      "metadata": {
        "id": "ah_LtZxxAkGN"
      },
      "source": [
        "## Demeaning\n",
        "The dataset that we have is unnormalised. It is a set of ratings, 0-4, and many of the attributes rated are very correlated (e.g. `smoky` and `medicinal`). Many of the ratings are also on quite different scales, with `tobacco` being much less likely to be rated 4 than `floral`.\n",
        "\n",
        "It is easier to work with normalised data. \n",
        "\n",
        "**Task B.1**\n",
        "Compute:\n",
        "* `mean_vector` the average flavour profile (you should have this from part A already)\n",
        "* `demeaned_whisky` that has the mean flavour vector removed. \n",
        "\n"
      ]
    },
    {
      "cell_type": "code",
      "metadata": {
        "ExecuteTime": {
          "end_time": "2020-10-15T13:22:01.799425Z",
          "start_time": "2020-10-15T13:22:01.785761Z"
        },
        "deletable": false,
        "nbgrader": {
          "checksum": "84bcde2356f5e306e52817f0a959c233",
          "grade": false,
          "grade_id": "cell-2c070dfbb4f2d130",
          "locked": false,
          "schema_version": 1,
          "solution": true
        },
        "id": "GMUlKlbkAkGN"
      },
      "source": [
        "# YOUR CODE HERE\n",
        "raise NotImplementedError()"
      ],
      "execution_count": null,
      "outputs": []
    },
    {
      "cell_type": "code",
      "metadata": {
        "ExecuteTime": {
          "end_time": "2020-10-15T13:22:02.068845Z",
          "start_time": "2020-10-15T13:22:01.800402Z"
        },
        "deletable": false,
        "editable": false,
        "nbgrader": {
          "checksum": "55ba73aadbd3a405e3ca38b7c8afd389",
          "grade": true,
          "grade_id": "cell-4e083075b593aab1",
          "locked": false,
          "points": 4,
          "schema_version": 1,
          "solution": false
        },
        "id": "rH4fox16AkGN"
      },
      "source": [
        "## Show the mean vector as an image strip\n",
        "## Remember: this represents a point in space\n",
        "fig = plt.figure(figsize=(15, 4))\n",
        "ax = fig.add_subplot(1,1,1)\n",
        "img = ax.imshow(mean_vector[None,:], cmap='viridis', vmin=0, vmax=4)\n",
        "ax.set_xticklabels(columns)\n",
        "ax.set_xticks(np.arange(len(columns)))\n",
        "ax.set_yticks([])\n",
        "ax.set_title(\"Mean vector of flavour profile\")\n",
        "fig.colorbar(img, orientation='horizontal')\n",
        "\n",
        "with tick.marks(4):\n",
        "    assert(check_hash(demeaned_whisky, ((86, 12), -12996.960309576743)))"
      ],
      "execution_count": null,
      "outputs": []
    },
    {
      "cell_type": "markdown",
      "metadata": {
        "id": "GbHlrNl0AkGN"
      },
      "source": [
        "**Task B.2** Compute the **covariance matrix** of the *demeaned* data. Call this `whisky_cov`. \n",
        "\n",
        "The code below will show you this matrix as an image. **Note**: this should be a 12x12 matrix!\n",
        "\n",
        "The covariance matrix tells us how different columns of the dataset are correlated (co-vary) with each other."
      ]
    },
    {
      "cell_type": "code",
      "metadata": {
        "ExecuteTime": {
          "end_time": "2020-10-15T13:22:02.073724Z",
          "start_time": "2020-10-15T13:22:02.069821Z"
        },
        "deletable": false,
        "nbgrader": {
          "checksum": "d018fe6f23cdfd5c0f3d9352819c013f",
          "grade": false,
          "grade_id": "cell-644f04478c589c86",
          "locked": false,
          "schema_version": 1,
          "solution": true
        },
        "id": "52KEjpurAkGN"
      },
      "source": [
        "# YOUR CODE HERE\n",
        "raise NotImplementedError()"
      ],
      "execution_count": null,
      "outputs": []
    },
    {
      "cell_type": "code",
      "metadata": {
        "ExecuteTime": {
          "end_time": "2020-10-15T13:22:02.329010Z",
          "start_time": "2020-10-15T13:22:02.074700Z"
        },
        "deletable": false,
        "editable": false,
        "nbgrader": {
          "checksum": "8cc3a0fee9019da29533690d7309ac46",
          "grade": true,
          "grade_id": "cell-5be7cc63bab4969a",
          "locked": true,
          "points": 4,
          "schema_version": 1,
          "solution": false
        },
        "id": "FLpjW4DjAkGN"
      },
      "source": [
        "fig = plt.figure()\n",
        "ax = fig.add_subplot(1,1,1)\n",
        "img = ax.imshow(whisky_cov, cmap='seismic', vmin=-1.5, vmax=1.5)\n",
        "ax.set_xticks(np.arange(12))\n",
        "ax.set_yticks(np.arange(12))\n",
        "ax.set_yticklabels(columns)\n",
        "ax.set_xticklabels(columns, rotation='vertical')\n",
        "ax.set_title(\"Covariance matrix\")\n",
        "fig.colorbar(img)\n",
        "\n",
        "with tick.marks(4):\n",
        "    assert(check_hash(whisky_cov, ((12, 12), 617.9256928561159)))"
      ],
      "execution_count": null,
      "outputs": []
    },
    {
      "cell_type": "markdown",
      "metadata": {
        "deletable": false,
        "editable": false,
        "nbgrader": {
          "checksum": "8a169939dd46cd35c9c20e91b243d929",
          "grade": false,
          "grade_id": "cell-90d2d4bed2070e69",
          "locked": true,
          "schema_version": 1,
          "solution": false
        },
        "id": "OEsf9CcTAkGO"
      },
      "source": [
        "From the image of the covariance matrix we can see several interesting things:\n",
        "* having `body` is negatively correlated with the `wine` flavour\n",
        "* being `smoky` is negatively correlated with having `sweetness`\n",
        "* `nutty` is positively correlated with `body`\n",
        "\n",
        "Although the raters have provided 12 different categories, it seems these are not fully independent of each other."
      ]
    },
    {
      "cell_type": "markdown",
      "metadata": {
        "deletable": false,
        "editable": false,
        "nbgrader": {
          "checksum": "a7090b0245728e5e057ad0941fa5e12e",
          "grade": false,
          "grade_id": "cell-f1f349363cc10a1d",
          "locked": true,
          "schema_version": 1,
          "solution": false
        },
        "id": "rdV1PfLLAkGO"
      },
      "source": [
        "## Eigendecomposition of the covariance matrix\n",
        "\n",
        "We would like to create some new flavour categories that are independent of each other (so that we don't have categories like smoky and medicinal that are given similar numbers by the tasters). We can do this by combining the existing flavour categories.\n",
        "\n",
        "By looking at the covariance matrix, we can get an idea of which flavours are most correlated or most independent. Let's analyse this in more detail. Recall that the covariance matrix can be represented by an ellipse whose primary axes are the **eigenvectors** of the covariance matrix. The eigenvectors are a set of *independent* directions in which the dataset varies. \n",
        "\n",
        "These are the **principal components** of the dataset. We can compute these from the covariance matrix by taking the eigendecomposition. Each eigenvector of the covariance matrix is a **principal component** and its importance is given by the square root of the absolute value of its corresponding eigenvalue.\n",
        "\n",
        "Note that a 12 x 12 matrix will be represented by a 12-dimensional ellipsoid, which we can't really visualise, but we can visualise the relative importance of the eigenvectors. \n",
        "\n",
        "**Task B.3**\n",
        "* Compute all 12 of the eigenvectors of the covariance matrix, in order, with the *largest* corresponding eigenvalue first. Store these as a matrix of column vectors in `whisky_pc`. These eigenvectors are the principal components of the whisky data set.\n",
        "* Compute the square root of every eigenvalue (we can think of these as lengths of the prinicipal components) and store them in `whisky_pc_len`. Make sure they are in descending order from largest to smallest."
      ]
    },
    {
      "cell_type": "markdown",
      "metadata": {
        "id": "XtybpQmxAkGO"
      },
      "source": [
        "**Note:** Please use `np.linalg.eig` (and not `eigh`, `svd` or `scipy.linalg.eig`) when solving this task!"
      ]
    },
    {
      "cell_type": "code",
      "metadata": {
        "ExecuteTime": {
          "end_time": "2020-10-15T13:22:02.794178Z",
          "start_time": "2020-10-15T13:22:02.329986Z"
        },
        "deletable": false,
        "nbgrader": {
          "checksum": "c5f6f82ce532a2f1e8b04d62278c915d",
          "grade": false,
          "grade_id": "cell-c4b2a9f544ea407b",
          "locked": false,
          "schema_version": 1,
          "solution": true
        },
        "id": "CPY7GL5lAkGO"
      },
      "source": [
        "# YOUR CODE HERE\n",
        "raise NotImplementedError()"
      ],
      "execution_count": null,
      "outputs": []
    },
    {
      "cell_type": "code",
      "metadata": {
        "ExecuteTime": {
          "end_time": "2020-10-15T13:22:03.223691Z",
          "start_time": "2020-10-15T13:22:02.795155Z"
        },
        "deletable": false,
        "editable": false,
        "nbgrader": {
          "checksum": "5168a8e2b481efe6b9473a75b110d222",
          "grade": false,
          "grade_id": "cell-7df4274eb1cf3401",
          "locked": true,
          "schema_version": 1,
          "solution": false
        },
        "id": "6sFdOGI6AkGO"
      },
      "source": [
        "## We can show the principal components as an image\n",
        "## Each row is a principal component and shows a vector\n",
        "## which represents the direction of variation. The first\n",
        "## vector represents the largest component.\n",
        "fig = plt.figure(figsize=(15, 6))\n",
        "ax = fig.add_subplot(1,1,1)\n",
        "# space out the principal components and scale them by the length of the components\n",
        "img = ax.imshow(np.concatenate([(whisky_pc * whisky_pc_len), \n",
        "                                np.zeros_like(whisky_pc)], axis=0).T.reshape(24, -1).T, \n",
        "                cmap='seismic',         \n",
        "                vmin=-2, vmax=2)\n",
        "\n",
        "ax.set_yticks(np.arange(12))\n",
        "ax.set_xticks(np.arange(0,24,2))\n",
        "ax.set_xticklabels([\"PC{i}\".format(i=i) for i in np.arange(12)])\n",
        "ax.set_yticklabels(columns)\n",
        "ax.set_title(\"Principal components\")\n",
        "ax.set_frame_on(False)\n",
        "fig.colorbar(img);"
      ],
      "execution_count": null,
      "outputs": []
    },
    {
      "cell_type": "code",
      "metadata": {
        "ExecuteTime": {
          "end_time": "2020-10-15T13:22:03.453087Z",
          "start_time": "2020-10-15T13:22:03.224666Z"
        },
        "deletable": false,
        "editable": false,
        "nbgrader": {
          "checksum": "1e8bca17c61d2e381dff2841f38fb186",
          "grade": false,
          "grade_id": "cell-4d43cb908414ab41",
          "locked": true,
          "schema_version": 1,
          "solution": false
        },
        "id": "THzPI7PHAkGO"
      },
      "source": [
        "## Show the principal component lengths of this dataset\n",
        "## This shows how much of the variation in the dataset\n",
        "## is \"explained\" by the variation along the corresponding direction.\n",
        "## In this case, we can see that the first and second components are the largest.\n",
        "## PC1 is mainly a combination of \"smoky\", \"medicinal\" and \"body\",\n",
        "## whereas PC2 is mainly a combination of \"honey\", \"nutty\", \"malty\" and \"body\".\n",
        "## Further down the list, PC4 is strongly \"floral\"\n",
        "fig = plt.figure(figsize=(12, 6))\n",
        "ax = fig.add_subplot(1, 1, 1)\n",
        "ax.bar(np.arange(len(whisky_pc_len)), whisky_pc_len)\n",
        "ax.set_xticks(np.arange(12))\n",
        "ax.set_xticklabels([\"PC{i}\".format(i=i) for i in np.arange(12)])\n",
        "ax.set_ylabel(\"$\\sqrt{\\lambda}$\")\n",
        "ax.set_frame_on(False)\n",
        "ax.set_title(\"Component importances\")"
      ],
      "execution_count": null,
      "outputs": []
    },
    {
      "cell_type": "code",
      "metadata": {
        "ExecuteTime": {
          "end_time": "2020-10-15T13:22:03.460894Z",
          "start_time": "2020-10-15T13:22:03.454063Z"
        },
        "deletable": false,
        "editable": false,
        "nbgrader": {
          "checksum": "845c2c5a8452199ee0a5f4a533adba77",
          "grade": true,
          "grade_id": "cell-78b1369da93742d0",
          "locked": true,
          "points": 10,
          "schema_version": 1,
          "solution": false
        },
        "id": "cwb8I0nwAkGO"
      },
      "source": [
        "with tick.marks(10):\n",
        "    assert(check_hash(whisky_pc, ((12, 12), -116.3856770814677)))\n",
        "    assert(check_hash(whisky_pc_len, ((12,), 49.2805781587291)))"
      ],
      "execution_count": null,
      "outputs": []
    },
    {
      "cell_type": "markdown",
      "metadata": {
        "id": "fQOZugVmAkGP"
      },
      "source": [
        "## Projecting onto the principal components\n",
        "\n",
        "This is interesting, but quite hard to interpret. One very useful technique is to project data onto a small number of principal components, to visualise the data. This forms a simplified version of the data, where the use of principal components means we can map the directions in the data which are most important to our visual axes. For example, we might map the first two principal components to a 2D $x,y$ plot.\n",
        "\n",
        "This is a key technique in exploratory data analysis: **principal component analysis**. All it involves is using the principal components to find a simplified mapping onto a lower-dimensional space.\n",
        "\n",
        "We can compute a projection of a dataset onto an arbitrary set of vectors by forming a matrix product:\n",
        "$$P = XV,$$\n",
        "\n",
        "Where $P$ is an $N\\times k$ matrix that is the result of the projection, $X$ is the $N \\times D$ original data set and $V$ is an $D \\times k$ matrix, each of whose *columns* is a vector that we want to project onto.\n",
        "\n",
        "**Task B.4**\n",
        "Use this information to project the distillery data onto the first two principal components, and store the result in `whisky_projected_2d`. If you do this correctly, the plot below should show a 2D mapping of whisky flavours, where more distant distilleries in the map represent more distinct flavour styles.\n",
        "\n",
        "**Note:** Please use `np.linalg.eig` (and not `eigh`, `svd` or `scipy.linalg.eig`) when solving this task!\n",
        "\n",
        "\n"
      ]
    },
    {
      "cell_type": "code",
      "metadata": {
        "ExecuteTime": {
          "end_time": "2020-10-15T13:22:03.475536Z",
          "start_time": "2020-10-15T13:22:03.461871Z"
        },
        "deletable": false,
        "nbgrader": {
          "checksum": "75ebd8b40fd98a1f58ab681d723144e3",
          "grade": false,
          "grade_id": "cell-2c69b850765b1921",
          "locked": false,
          "schema_version": 1,
          "solution": true
        },
        "id": "xIXcBhBTAkGP"
      },
      "source": [
        "# YOUR CODE HERE\n",
        "raise NotImplementedError()"
      ],
      "execution_count": null,
      "outputs": []
    },
    {
      "cell_type": "code",
      "metadata": {
        "ExecuteTime": {
          "end_time": "2020-10-15T13:22:04.224161Z",
          "start_time": "2020-10-15T13:22:03.477487Z"
        },
        "deletable": false,
        "editable": false,
        "nbgrader": {
          "checksum": "7dd6fc3484056d6b8fafee102e2f87b5",
          "grade": false,
          "grade_id": "cell-8c2778e9baaf5634",
          "locked": true,
          "schema_version": 1,
          "solution": false
        },
        "id": "LvsaJlA_AkGP"
      },
      "source": [
        "## Show the whisky distilleries laid out\n",
        "## on the two first principal components,\n",
        "## colouring the points according to the level of smokiness \n",
        "## (just to see that similar whiskies are indeed clustered together)\n",
        "fig = plt.figure(figsize=(15,15))\n",
        "ax = fig.add_subplot(1,1,1)\n",
        "#ax.set_frame_on(False)\n",
        "ax.set_xlabel(\"Principal component 1\", fontsize=14)\n",
        "ax.set_ylabel(\"Principal component 2\", fontsize=14)\n",
        "ax.set_title(\"Principal component analysis of whisky distillery flavour profiles\", fontsize=16)\n",
        "ax.scatter(whisky_projected_2d[:,0], whisky_projected_2d[:,1], c=whisky[:,columns['smoky']], s=40)\n",
        "#ax.scatter(whisky_projected_2d[:,0], whisky_projected_2d[:,1], c=whisky[:,columns['nutty']], s=40)\n",
        "for i,name in enumerate(distilleries):\n",
        "    ax.text(whisky_projected_2d[i,0], whisky_projected_2d[i,1], name, fontdict={'size':12})"
      ],
      "execution_count": null,
      "outputs": []
    },
    {
      "cell_type": "code",
      "metadata": {
        "ExecuteTime": {
          "end_time": "2020-10-15T13:22:04.230018Z",
          "start_time": "2020-10-15T13:22:04.225138Z"
        },
        "deletable": false,
        "editable": false,
        "nbgrader": {
          "checksum": "80a8a2ecaf52bbd20fff2e97ddd3fb57",
          "grade": true,
          "grade_id": "cell-5fc17d87b1090488",
          "locked": false,
          "points": 3,
          "schema_version": 1,
          "solution": false
        },
        "id": "sznYl0hpAkGP"
      },
      "source": [
        "with tick.marks(3):\n",
        "    assert(check_hash(whisky_projected_2d, ((86, 2), 21159.91633246404)))"
      ],
      "execution_count": null,
      "outputs": []
    },
    {
      "cell_type": "markdown",
      "metadata": {
        "id": "9VLNi75EAkGP"
      },
      "source": [
        "**Now, repeat this exact process of Principal Component Analysis, but for the *geographic locations* instead of the flavour profiles, and compute `location_projected_2d`.** Hint: `location_projected_2d` should have shape (86,2)."
      ]
    },
    {
      "cell_type": "code",
      "metadata": {
        "ExecuteTime": {
          "end_time": "2020-10-15T13:33:17.108837Z",
          "start_time": "2020-10-15T13:33:17.012684Z"
        },
        "deletable": false,
        "nbgrader": {
          "checksum": "372fe17f91bd1157ee8bdf16b26cbfe2",
          "grade": false,
          "grade_id": "cell-bba288ec56bba23d",
          "locked": false,
          "schema_version": 1,
          "solution": true
        },
        "id": "6EwGfCeQAkGP"
      },
      "source": [
        "# YOUR CODE HERE\n",
        "raise NotImplementedError()"
      ],
      "execution_count": null,
      "outputs": []
    },
    {
      "cell_type": "code",
      "metadata": {
        "ExecuteTime": {
          "end_time": "2020-10-15T13:32:49.307491Z",
          "start_time": "2020-10-15T13:32:49.269427Z"
        },
        "id": "T3b5diq6AkGP"
      },
      "source": [
        "fig = plt.figure(figsize=(15,15))\n",
        "ax = fig.add_subplot(1,1,1)\n",
        "#ax.set_frame_on(False)\n",
        "ax.set_xlabel(\"Geographical principal component 1\", fontsize=14)\n",
        "ax.set_ylabel(\"Geographical principal component 2\", fontsize=14)\n",
        "ax.set_title(\"Principal component analysis of whisky locations\", fontsize=16)\n",
        "ax.scatter(location_projected_2d[:,0], location_projected_2d[:,1], c=whisky[:,columns['smoky']], s=180)\n",
        "\n",
        "for i,name in enumerate(distilleries):\n",
        "    ax.text(location_projected_2d[i,0], location_projected_2d[i,1], name, fontdict={'size':12})"
      ],
      "execution_count": null,
      "outputs": []
    },
    {
      "cell_type": "code",
      "metadata": {
        "deletable": false,
        "editable": false,
        "nbgrader": {
          "checksum": "da692a8b022d2c34342265272123cdf6",
          "grade": true,
          "grade_id": "cell-5c239501ad3b4749",
          "locked": true,
          "points": 0,
          "schema_version": 1,
          "solution": false
        },
        "id": "3lOjZ2NyAkGP"
      },
      "source": [
        "# Sanity check of the size of location_projected_2d; it does not check the values of location_projected_2d. \n",
        "# If this fails, so will the hidden test!\n",
        "with tick.marks(0):\n",
        "    assert(check_hash(0.0*location_projected_2d, ((86, 2), 0.0)))    "
      ],
      "execution_count": null,
      "outputs": []
    },
    {
      "cell_type": "code",
      "metadata": {
        "ExecuteTime": {
          "end_time": "2020-10-15T13:33:31.164855Z",
          "start_time": "2020-10-15T13:33:31.158999Z"
        },
        "deletable": false,
        "editable": false,
        "nbgrader": {
          "checksum": "e7bddf076bed77a1083c5afebd2e082a",
          "grade": true,
          "grade_id": "cell-81c509e0f4541c49",
          "locked": true,
          "points": 9,
          "schema_version": 1,
          "solution": false
        },
        "id": "WL0A-exQAkGQ"
      },
      "source": [
        "# Hidden test which checks location_projected_2d [9 marks]"
      ],
      "execution_count": null,
      "outputs": []
    },
    {
      "cell_type": "markdown",
      "metadata": {
        "id": "WuU44fg6AkGQ"
      },
      "source": [
        "\n",
        "We can normalise this data further. Whiten the dataset so that it has zero mean and unit covariance. This transforms our dataset so that it is centered on the origin (demeaning) and \"spherical\" (whitenening with covariance matrix). This is particularly useful if we are going to try and map from data in one vector space to another; having the data in standard scaling, with no offset and no correlation among dimensions makes the data easier to work with.\n",
        "\n",
        "**Task B.5**\n",
        "Use the SVD to compute the inverse square root of the covariance matrix `whisky_cov`. Multiply the demeaned whisky matrix by this to produce `whitened_whisky`. This represents the data with the mean removed and all correlations eliminated.\n",
        "\n"
      ]
    },
    {
      "cell_type": "code",
      "metadata": {
        "ExecuteTime": {
          "end_time": "2020-10-15T13:22:04.247586Z",
          "start_time": "2020-10-15T13:22:04.230994Z"
        },
        "deletable": false,
        "nbgrader": {
          "checksum": "3ff558660aadb82738593676f3fe1901",
          "grade": false,
          "grade_id": "cell-1c5bea02f260973d",
          "locked": false,
          "schema_version": 1,
          "solution": true
        },
        "id": "Df_l_FYaAkGQ"
      },
      "source": [
        "# YOUR CODE HERE\n",
        "raise NotImplementedError()"
      ],
      "execution_count": null,
      "outputs": []
    },
    {
      "cell_type": "code",
      "metadata": {
        "ExecuteTime": {
          "end_time": "2020-10-15T13:22:35.017008Z",
          "start_time": "2020-10-15T13:22:34.809087Z"
        },
        "deletable": false,
        "editable": false,
        "nbgrader": {
          "checksum": "df2cc5cf59198921e65270621c05bc58",
          "grade": true,
          "grade_id": "cell-6ba452627f183458",
          "locked": true,
          "points": 2,
          "schema_version": 1,
          "solution": false
        },
        "id": "OMiihErXAkGQ"
      },
      "source": [
        "# This plot of the covariance matrix should now be perfectly diagonal\n",
        "plt.imshow(np.cov(whitened_whisky.T), vmin=0, vmax=1, cmap='viridis')\n",
        "plt.colorbar()\n",
        "\n",
        "with tick.marks(2):\n",
        "    assert(check_hash(whitened_whisky, ((86, 12), -13840.852324929752)))"
      ],
      "execution_count": null,
      "outputs": []
    },
    {
      "cell_type": "code",
      "metadata": {
        "ExecuteTime": {
          "end_time": "2020-10-15T13:22:37.877066Z",
          "start_time": "2020-10-15T13:22:36.466049Z"
        },
        "id": "0SzRFXCBAkGQ"
      },
      "source": [
        "# show a plot of the whisky data\n",
        "fig = plt.figure(figsize=(10,25))\n",
        "ax = fig.add_subplot(1,1,1)\n",
        "ax.set_title(\"Whitened, demeaned vectors\")\n",
        "# image plot\n",
        "img = ax.imshow(whitened_whisky)\n",
        "ax.set_yticks(np.arange(len(distilleries)))\n",
        "ax.set_yticklabels(distilleries, rotation=\"horizontal\", fontsize=12)\n",
        "\n",
        "# put the x axis at the top\n",
        "ax.xaxis.tick_top()\n",
        "ax.set_xticks(np.arange(len(columns)))\n",
        "ax.set_xticklabels(columns, rotation=\"vertical\", fontsize=12)\n",
        "\n",
        "# some horrific colorbar hackery to put in the right place\n",
        "# don't worry about this bit!\n",
        "cbaxes = fig.add_axes([0.37, 0.93, 0.28, 0.01])  \n",
        "fig.colorbar(img, orientation='horizontal',  cax=cbaxes, ticks=np.arange(5))\n",
        "cbaxes.xaxis.tick_top()"
      ],
      "execution_count": null,
      "outputs": []
    },
    {
      "cell_type": "markdown",
      "metadata": {
        "id": "Si1_NVnJAkGQ"
      },
      "source": [
        "### Visualising in normalised space\n",
        "Now that we have the data normalised, we could also define a more sensible way to compare vectors in a high-dimensional space. The $L_2$ norm has significant problems in very high-dimensional spaces. A more sensible way to compare high-dimensional vectors is to look at the *angle* between them.\n",
        "\n",
        "**Task B.6**\n",
        "Define a function `cosine(a, b)` that computes the cosine of the angle between two vectors `a` and `b`. \n",
        "\n",
        "N.B. This should be a value between -1 and 1."
      ]
    },
    {
      "cell_type": "code",
      "metadata": {
        "ExecuteTime": {
          "end_time": "2020-10-15T13:22:38.671564Z",
          "start_time": "2020-10-15T13:22:38.667660Z"
        },
        "deletable": false,
        "nbgrader": {
          "checksum": "c49154f89fc9cf2da08420cc98b56789",
          "grade": false,
          "grade_id": "cell-709fa3244b0a61a6",
          "locked": false,
          "schema_version": 1,
          "solution": true
        },
        "id": "nJnUCxAQAkGQ"
      },
      "source": [
        "def cosine(a, b):\n",
        "    # YOUR CODE HERE\n",
        "    raise NotImplementedError()"
      ],
      "execution_count": null,
      "outputs": []
    },
    {
      "cell_type": "code",
      "metadata": {
        "ExecuteTime": {
          "end_time": "2020-10-15T13:22:38.927312Z",
          "start_time": "2020-10-15T13:22:38.827253Z"
        },
        "deletable": false,
        "editable": false,
        "nbgrader": {
          "checksum": "76b7b72581aa654c602f079d82703266",
          "grade": true,
          "grade_id": "cell-3869d615b34ee940",
          "locked": false,
          "points": 2,
          "schema_version": 1,
          "solution": false
        },
        "id": "pAco04g3AkGS"
      },
      "source": [
        "\n",
        "angles = np.array([cosine(whitened_whisky[i,:], whitened_whisky[j,:]) for i in range(len(whisky)) for j in range(len(whisky))])\n",
        "\n",
        "with tick.marks(2):\n",
        "    assert(check_hash(angles, ((7396,), 25457.146694199713)))"
      ],
      "execution_count": null,
      "outputs": []
    },
    {
      "cell_type": "markdown",
      "metadata": {
        "deletable": false,
        "editable": false,
        "nbgrader": {
          "checksum": "76d94073d3b12f8c9fe27f1166d1d25f",
          "grade": false,
          "grade_id": "cell-70f621f53181b43d",
          "locked": true,
          "schema_version": 1,
          "solution": false
        },
        "id": "xx65PzOyAkGS"
      },
      "source": [
        "## A 3D visualisation\n",
        "We can use the cosine distances to show a different layout of whiskies; this time in terms of relative angles to two reference distillieries, in the whitened space. This has the advantage that all distances are normalised to the range [-1,1], and we have a good spread of points in the space. The plot below shows the angle with respect to 3 distilleries, as a 3D plot. You can compare with the plot using the unwhitened data to see the effect that normalisation has had, if you wish.\n",
        "\n",
        "This is also an example of why visualising data in 3D is usually a bad idea."
      ]
    },
    {
      "cell_type": "code",
      "metadata": {
        "ExecuteTime": {
          "end_time": "2020-10-15T13:22:39.511075Z",
          "start_time": "2020-10-15T13:22:39.196254Z"
        },
        "id": "o9sWmQPvAkGS"
      },
      "source": [
        "import matplotlib.pyplot as plt\n",
        "from mpl_toolkits.mplot3d import Axes3D\n",
        "%matplotlib notebook\n",
        "import matplotlib.pyplot as plt\n",
        "%matplotlib notebook\n",
        "\n",
        "fig = plt.figure(figsize=(6,6))\n",
        "ax = fig.add_subplot(1,1,1, projection='3d')\n",
        "\n",
        "## Modify these to plot the flavours on different axes\n",
        "ref_a = 'Glengoyne'\n",
        "ref_b = 'Laphroig'\n",
        "ref_c = 'Glenlivet'\n",
        "\n",
        "## get the respective flavour vectors\n",
        "reference_a = whitened_whisky[distilleries.searchsorted(ref_a)]\n",
        "reference_b = whitened_whisky[distilleries.searchsorted(ref_b)]\n",
        "reference_c = whitened_whisky[distilleries.searchsorted(ref_c)]\n",
        "\n",
        "for name, flavour in zip(distilleries, whitened_whisky):\n",
        "    ## compute angles to the references\n",
        "    angle_a = cosine(reference_a, flavour)\n",
        "    angle_b = cosine(reference_b, flavour)\n",
        "    angle_c = cosine(reference_c, flavour)\n",
        "\n",
        "    ax.scatter(angle_a, angle_b, angle_c, color='c', s=5)\n",
        "    ax.text(angle_a, angle_b, angle_c, name, fontdict={\"size\":4}, alpha=0.5)\n",
        "    \n",
        "## fix up the plot\n",
        "ax.set_xlabel(\"Angle with respect to {ref_a}\".format(ref_a=ref_a))\n",
        "ax.set_ylabel(\"Angle with respect to {ref_b}\".format(ref_b=ref_b))\n",
        "ax.set_zlabel(\"Angle with respect to {ref_c}\".format(ref_c=ref_c))\n",
        "ax.set_xlim(-1.1, 1.1)\n",
        "ax.set_ylim(-1.1, 1.1)\n",
        "ax.set_zlim(-1.1, 1.1)\n",
        "ax.set_title(\"Normalised flavour angles between whisky distilleries\")"
      ],
      "execution_count": null,
      "outputs": []
    },
    {
      "cell_type": "markdown",
      "metadata": {
        "id": "D1-xcMRmAkGS"
      },
      "source": [
        "---"
      ]
    },
    {
      "cell_type": "markdown",
      "metadata": {
        "id": "DGHqdLs9AkGS"
      },
      "source": [
        "## C: A new competitor...? \n",
        "\n",
        "Consider the following problem: A newly founded distillery aims to produce a whisky similar to \"Glenlivet\" but would like 2.5 points more \"body\", 0.1 points more \"sweetness\" and 0.2 points fewer on the \"tobacco\" scale - otherwise, they are happy with the Glenlivet flavor profile.\n",
        "\n",
        "Is it possible for the distillery to produce this whisky given their current production system has limited production capabilities (modeled as a *linear system*)?\n"
      ]
    },
    {
      "cell_type": "markdown",
      "metadata": {
        "id": "fRWAj-_SAkGS"
      },
      "source": [
        "**Task C.1**\n",
        "- Extract the flavour profile for Glenlivet from `demeaned_whisky` and store it in `demeaned_glenlivet`\n",
        "- Compute the new target flavour profile (based on the `demeaned_demeaned_glenlivet`) the new distillery is aiming for; store it in `demeaned_desired_flavour`\n"
      ]
    },
    {
      "cell_type": "code",
      "metadata": {
        "deletable": false,
        "nbgrader": {
          "checksum": "ffb0aee2f2e5e30a898958e5a6c7c254",
          "grade": false,
          "grade_id": "cell-4dcefd681b963cb4",
          "locked": false,
          "schema_version": 1,
          "solution": true
        },
        "id": "MGaW9eEsAkGS"
      },
      "source": [
        "# YOUR CODE HERE\n",
        "raise NotImplementedError()"
      ],
      "execution_count": null,
      "outputs": []
    },
    {
      "cell_type": "code",
      "metadata": {
        "id": "BIPmSseKAkGT"
      },
      "source": [
        "## Show the demeaned_glenlivet vector as an image strip\n",
        "## Remember: this represents a point in space\n",
        "fig = plt.figure(figsize=(11, 4))\n",
        "ax = fig.add_subplot(1,1,1)\n",
        "img = ax.imshow(demeaned_glenlivet[None,:], cmap='viridis', vmin=0, vmax=4)\n",
        "ax.set_xticklabels(columns)\n",
        "ax.set_xticks(np.arange(len(columns)))\n",
        "ax.set_yticks([])\n",
        "ax.set_title(\"Glenlivet\")\n",
        "fig.colorbar(img, orientation='horizontal')\n",
        "\n",
        "## Show the demeaned_glenlivit vector as an image strip\n",
        "fig = plt.figure(figsize=(11, 4))\n",
        "ax = fig.add_subplot(1,1,1)\n",
        "img = ax.imshow(demeaned_desired_flavour[None,:], cmap='viridis', vmin=0, vmax=4)\n",
        "ax.set_xticklabels(columns)\n",
        "ax.set_xticks(np.arange(len(columns)))\n",
        "ax.set_yticks([])\n",
        "ax.set_title(\"Desired flavour profile\")\n",
        "fig.colorbar(img, orientation='horizontal')\n"
      ],
      "execution_count": null,
      "outputs": []
    },
    {
      "cell_type": "code",
      "metadata": {
        "deletable": false,
        "editable": false,
        "nbgrader": {
          "checksum": "bbc6a1b0ce40bf742e32a522f9008bcf",
          "grade": true,
          "grade_id": "cell-1b1314722abae03d",
          "locked": true,
          "points": 2,
          "schema_version": 1,
          "solution": false
        },
        "id": "Lhlhpi-NAkGT"
      },
      "source": [
        "\n",
        "with tick.marks(2):\n",
        "    assert(check_hash(demeaned_glenlivet, ((12,), 35.3928040241586)))"
      ],
      "execution_count": null,
      "outputs": []
    },
    {
      "cell_type": "code",
      "metadata": {
        "deletable": false,
        "editable": false,
        "nbgrader": {
          "checksum": "8e647b51dbef31149e2607d623160920",
          "grade": true,
          "grade_id": "cell-7aea1daf92a68db7",
          "locked": true,
          "points": 2,
          "schema_version": 1,
          "solution": false
        },
        "id": "zYZqFAA0AkGT"
      },
      "source": [
        "\n",
        "with tick.marks(2):\n",
        "    assert(check_hash(demeaned_desired_flavour, ((12,), 38.66863915527948)))"
      ],
      "execution_count": null,
      "outputs": []
    },
    {
      "cell_type": "markdown",
      "metadata": {
        "id": "X-dIdClAAkGT"
      },
      "source": [
        "**Task C.2**\n",
        "\n",
        "The new distillery has a new but simple production facility and only limited access to quality ingredients (specific malt types), which limits their flexibility. They only have five specific parameters they can easily control, such as the age of the barrels in which they age the whiskey and certain pressure and temperature settings during the distillation and aging. In total, they have five such (continuous) parameters, which we can **conveniently** collect in a vector $\\mathbf{x}\\in\\mathbb{R}^5$; each parameter has a unique effect on the resulting flavor.\n",
        "\n",
        "We also happen to know a set of equations govering the input-output relationship of the current Whisky distillery. When we  produce our Whisky with a certain $\\mathbf{x}$ as input, we know the result of the distillation in terms of the flavors. The input-output relations are given by the follwing equations:\n",
        "\n",
        "$$\\begin{gathered}\n",
        "  {y_1} = 1.01 {x_1}{\\text{  + }}{x_2}{\\text{  +  }}{x_5}{\\text{ }} \\hfill \\\\\n",
        "  -2{x_1}+{y_2} = 0.02{x_2}{\\text{  + }}{x_3}{\\text{ }} - {x_4}{\\text{ +  }}{x_5}{\\text{ }} \\hfill \\\\\n",
        "  {y_3} =  - 2{x_1}{\\text{  + }}{x_2}{\\text{ +  }}1.03{x_3}{\\text{  + }}{x_4}{\\text{ }} - {x_5} \\hfill \\\\\n",
        "  {y_4} = {x_1}{\\text{ }} + {x_2}{\\text{  + }}{x_3}{\\text{ }} - 2.04{x_4}{\\text{  }} \\hfill \\\\\n",
        "  {y_5} =  - 0.005{x_5}{\\text{ }} \\hfill \\\\\n",
        "  {y_6} =  - {x_1}{\\text{  +  }}{x_2}{\\text{ }} - 2{x_3}{\\text{ +  }}{x_5} \\hfill \\\\\n",
        "  -{x_2}{\\text{ -  }}{x_3}{\\text{ }}+ {y_7} = 0 \\hfill \\\\\n",
        "  {y_8} = {x_2}{\\text{ }} - {x_3}{\\text{  +  }}2.05{x_5} \\hfill \\\\\n",
        "  {y_9} = 4{x_1}{\\text{  + }}{x_2} - {x_3}{\\text{ }} - 1.04{x_4}{\\text{ }} - {x_5} \\hfill \\\\\n",
        "  {y_{10}} = 3{x_1}{\\text{ }} - {x_2}{\\text{ }} - 0.03{x_3} \\hfill \\\\\n",
        "  {y_{11}} =  - {x_1}{\\text{  + }}1.02{x_2}{\\text{ }} - 3{x_3} \\hfill \\\\\n",
        "  {y_{12}} = 3.01{x_1}{\\text{  + }}2{x_2}{\\text{  +  }}{x_3}{\\text{  +  }}{x_4}{\\text{  + }}2.05{x_5} \\hfill \\\\ \n",
        "\\end{gathered} $$\n",
        "\n",
        "Where $\\mathbf{x}=[x_1,x_2,...,x_{12}]$ are the parameters and $\\mathbf{y}=[y_1,y_2,...,y_{12}]$ is the desired flavor profile. For example, if we know the value of the system parameters $x_1$ and $x_2$ and $x_5$ we know what the \"body\" of the Whisky will be once it has finished aging and has been bottled.\n",
        "\n",
        "In short, when we apply the set of equations to our process parameters vector, $\\mathbf{x}$, we know the resulting flavour. This is a *system of linear equations* (or just a *linear system*) which can be written $A\\mathbf{x} = \\mathbf{y}$ where $\\mathbf{y}$ is the vector stored in `demeaned_desired_flavour` and $\\mathbf{x}$ is the vector of parameters we need to produce a whisky with a certain flavour profile.\n"
      ]
    },
    {
      "cell_type": "markdown",
      "metadata": {
        "id": "_2mElOBPAkGT"
      },
      "source": [
        "From the set of coupled equations above, identify $A$ and create a $12x5$ matrix, and store it in a numpy array called `A_whisky_process` . This is a manual and tedious task but important to understand! It should have values such that we can apply it to $\\mathbf{x}$ and get $\\mathbf{y}$, i.e., $A\\mathbf{x} = \\mathbf{y}$ where $\\mathbf{y}$ is the vector `demeaned_desired_flavour`. You should not be applying any manual solving techniques to $A$ and $\\mathbf{y}$ but simply inspect the individual equations and identify the correct values of the corresponding row in $A$."
      ]
    },
    {
      "cell_type": "code",
      "metadata": {
        "deletable": false,
        "nbgrader": {
          "checksum": "b6233f7e53ed313bef4c06a9d397c709",
          "grade": false,
          "grade_id": "cell-971ba0571a97cc09",
          "locked": false,
          "schema_version": 1,
          "solution": true
        },
        "id": "Kwfc4kJnAkGT"
      },
      "source": [
        "# YOUR CODE HERE\n",
        "raise NotImplementedError()"
      ],
      "execution_count": null,
      "outputs": []
    },
    {
      "cell_type": "code",
      "metadata": {
        "deletable": false,
        "editable": false,
        "nbgrader": {
          "checksum": "97e03e2d695982dd9ab2d6cf5eb9400d",
          "grade": true,
          "grade_id": "cell-9b580f600ac577fd",
          "locked": true,
          "points": 0,
          "schema_version": 1,
          "solution": false
        },
        "id": "tEPVaGrtAkGT"
      },
      "source": [
        "## Sanity check - size of A_whisky_process (0 marks)\n",
        "with tick.marks(0): # a better test/hash\n",
        "    assert(check_hash( 0*A_whisky_process , ((12, 5), 0)))"
      ],
      "execution_count": null,
      "outputs": []
    },
    {
      "cell_type": "code",
      "metadata": {
        "deletable": false,
        "editable": false,
        "nbgrader": {
          "checksum": "1906f5d9c36f2599f106afdfbe311c4f",
          "grade": true,
          "grade_id": "cell-3aa1d168407883ea",
          "locked": true,
          "points": 5,
          "schema_version": 1,
          "solution": false
        },
        "id": "Fkd3FQtBAkGU"
      },
      "source": [
        "## Visible, autograded assesment (advanced hash - WARNING: does not check the correct size of A_whisky_process)\n",
        "\n",
        "\n",
        "with tick.marks(5): # ADVANCED HASH; DOES NOT CHECK FOR CORRET SIZE OF A_whisky_process\n",
        "    assert(check_hash( A_whisky_process @ (np.linspace(1,2515.337,12*5)).reshape((5,12)), ((12, 12), 14089780.468302336)))"
      ],
      "execution_count": null,
      "outputs": []
    },
    {
      "cell_type": "markdown",
      "metadata": {
        "id": "XSviHpBhAkGU"
      },
      "source": [
        "**Task C.3**\n",
        "\n",
        "We now look to find the set of ingredients and process parameters (i.e. $\\mathbf{x})$ that will hopefully result in the new distillery being able to produce the new flavour.\n",
        "\n",
        "$A$ is asymmetrical and this problem does not have an exact solution. We can however use the pseudo-inverse to give the closest result according to the L2 norm. In other words, it will find the vector $\\mathbf{\\hat x}$ that minimises the distance $\\left\\| {A\\mathbf{\\hat x}−\\mathbf{y}} \\right\\|_2$:\n",
        "\n",
        "- use `np.linalg.pinv` to compute an estimate the of process parameters, $\\mathbf{\\hat x}$, such that $A \\mathbf{\\hat x}\\approx \\mathbf{y}$ you'll need to use to produce the Whisky with the desired flavour (see the lecture notes on the pseudo inverse). Store the result in `xhat` with shape `(5,)`.\n",
        "- compute the actual flavour resulting from using the process parameters, $ \\mathbf{\\hat x}$, and store it in `demeaned_actual_flavour` (only for visualisation).\n",
        "- compute the L2 norm of the difference vector between the actual and desired flavour vector and store it in `error_l2` as a scalar.\n"
      ]
    },
    {
      "cell_type": "code",
      "metadata": {
        "deletable": false,
        "nbgrader": {
          "checksum": "87b4414d1e6f45837b2dab3d23a089aa",
          "grade": false,
          "grade_id": "cell-a15195ae7a2861b7",
          "locked": false,
          "schema_version": 1,
          "solution": true
        },
        "id": "D_XvGs9iAkGU"
      },
      "source": [
        "# YOUR CODE HERE\n",
        "raise NotImplementedError()"
      ],
      "execution_count": null,
      "outputs": []
    },
    {
      "cell_type": "code",
      "metadata": {
        "id": "7vDSNI79AkGU"
      },
      "source": [
        "## Show the demeaned_glenlivet vector as an image strip\n",
        "## Remember: this represents a point in space\n",
        "fig = plt.figure(figsize=(11, 4))\n",
        "ax = fig.add_subplot(1,1,1)\n",
        "img = ax.imshow(demeaned_glenlivet[None,:], cmap='viridis', vmin=0, vmax=4)\n",
        "ax.set_xticklabels(columns)\n",
        "ax.set_xticks(np.arange(len(columns)))\n",
        "ax.set_yticks([])\n",
        "ax.set_title(\"Glenlivet\")\n",
        "fig.colorbar(img, orientation='horizontal')\n",
        "\n",
        "## Show the demeaned_desired_flavour vector as an image strip\n",
        "fig = plt.figure(figsize=(11, 4))\n",
        "ax = fig.add_subplot(1,1,1)\n",
        "img = ax.imshow(demeaned_desired_flavour[None,:], cmap='viridis', vmin=0, vmax=4)\n",
        "ax.set_xticklabels(columns)\n",
        "ax.set_xticks(np.arange(len(columns)))\n",
        "ax.set_yticks([])\n",
        "ax.set_title(\"Desired flavour profile\")\n",
        "fig.colorbar(img, orientation='horizontal')\n",
        "\n",
        "## Show the demeaned_actual_flavour vector as an image strip\n",
        "fig = plt.figure(figsize=(11, 4))\n",
        "ax = fig.add_subplot(1,1,1)\n",
        "img = ax.imshow(demeaned_actual_flavour[None,:], cmap='viridis', vmin=0, vmax=4)\n",
        "ax.set_xticklabels(columns)\n",
        "ax.set_xticks(np.arange(len(columns)))\n",
        "ax.set_yticks([])\n",
        "ax.set_title(\"Actual/possible flavour profile\")\n",
        "fig.colorbar(img, orientation='horizontal')"
      ],
      "execution_count": null,
      "outputs": []
    },
    {
      "cell_type": "code",
      "metadata": {
        "deletable": false,
        "editable": false,
        "nbgrader": {
          "checksum": "96bd44d3b4be052fbadfbba4d5027ca4",
          "grade": true,
          "grade_id": "cell-189242282c8e0cb9",
          "locked": true,
          "points": 0,
          "schema_version": 1,
          "solution": false
        },
        "id": "3Ip3Py0uAkGV"
      },
      "source": [
        "## Sanity check - size of xhat (0 marks)\n",
        "with tick.marks(0): \n",
        "    assert(check_hash( 0*xhat , ((5,), 0)))"
      ],
      "execution_count": null,
      "outputs": []
    },
    {
      "cell_type": "code",
      "metadata": {
        "deletable": false,
        "editable": false,
        "nbgrader": {
          "checksum": "4f7ec5b946f700e09b18b6f5952ceb64",
          "grade": true,
          "grade_id": "cell-f90d866370bdd382",
          "locked": true,
          "points": 8,
          "schema_version": 1,
          "solution": false
        },
        "id": "QJUm6ORlAkGV"
      },
      "source": [
        "## Hidden, autograded assesment of xhat (4 marks)\n"
      ],
      "execution_count": null,
      "outputs": []
    },
    {
      "cell_type": "code",
      "metadata": {
        "deletable": false,
        "editable": false,
        "nbgrader": {
          "checksum": "c88ce37f865f2b9e6d81c5ee19318aa8",
          "grade": true,
          "grade_id": "cell-4d646d8327047ee2",
          "locked": true,
          "points": 0,
          "schema_version": 1,
          "solution": false
        },
        "id": "dbKQ7wRzAkGV"
      },
      "source": [
        "## Sanity check - size of error_l2 (0 marks)\n",
        "with tick.marks(0): \n",
        "    assert(check_hash( 0*error_l2 , ((), 0)))"
      ],
      "execution_count": null,
      "outputs": []
    },
    {
      "cell_type": "code",
      "metadata": {
        "deletable": false,
        "editable": false,
        "nbgrader": {
          "checksum": "5aa9b484c39d3ec81ea49bac67921b1e",
          "grade": true,
          "grade_id": "cell-003ba968dd644fce",
          "locked": true,
          "points": 5,
          "schema_version": 1,
          "solution": false
        },
        "id": "F5WnA5KzAkGV"
      },
      "source": [
        "## Hidden, autograded assesment of the error_l2 variable (2 marks)\n",
        "\n"
      ],
      "execution_count": null,
      "outputs": []
    },
    {
      "cell_type": "markdown",
      "metadata": {
        "id": "cISMVDGdAkGV"
      },
      "source": [
        "We can now (hopefully) answer the question whether the newly founded distillery is currently able to produce a Whisky with the desired flavor profile - or should they perhaps look to improve their production facilities (or choose a different business entirely)...?\n"
      ]
    },
    {
      "cell_type": "markdown",
      "metadata": {
        "deletable": false,
        "editable": false,
        "nbgrader": {
          "checksum": "6b306383c78adea075ee379d9677d3d4",
          "grade": false,
          "grade_id": "cell-0323f01f5171a545",
          "locked": true,
          "schema_version": 1,
          "solution": false
        },
        "id": "vWrhk0p7AkGV"
      },
      "source": [
        "---"
      ]
    },
    {
      "cell_type": "markdown",
      "metadata": {
        "deletable": false,
        "editable": false,
        "nbgrader": {
          "checksum": "e4640fa973507dd75b482f17880a27be",
          "grade": false,
          "grade_id": "cell-5ecf011fab5f6654",
          "locked": true,
          "schema_version": 1,
          "solution": false
        },
        "id": "do9PgeufAkGV"
      },
      "source": [
        "# Submission on Moodle"
      ]
    },
    {
      "cell_type": "markdown",
      "metadata": {
        "deletable": false,
        "editable": false,
        "nbgrader": {
          "checksum": "2f68ccbd1c21efd27e36a4316d4d73a4",
          "grade": false,
          "grade_id": "cell-faef8fcac7853b02",
          "locked": true,
          "schema_version": 1,
          "solution": false
        },
        "id": "WX4F2rSpAkGW"
      },
      "source": [
        "\n",
        "We will generate the **one** pdf file you'll need to submit along with the notebook:\n",
        "\n",
        "*Note*: you do not need to worry about the formatting etc (that's predetermined); just make sure all your explanations are readable in the pdf and your'll be fine!\n"
      ]
    },
    {
      "cell_type": "code",
      "metadata": {
        "deletable": false,
        "editable": false,
        "nbgrader": {
          "checksum": "44cb712029c4170cdc39c8b345efa87b",
          "grade": false,
          "grade_id": "cell-4495a0eafee6c237",
          "locked": true,
          "schema_version": 1,
          "solution": false
        },
        "id": "KqeiQeNlAkGW"
      },
      "source": [
        "## Report generation - YOU MUST YOU RUN THIS CELL !\n",
        "#\n",
        "# Ignore warnings regarding fonts\n",
        "#\n",
        "\n",
        "from matplotlib.backends.backend_pdf import PdfPages\n",
        "\n",
        "# File 1: declaration of originality with system info\n",
        "try:\n",
        "    f = open('uofg_declaration_of_originality.txt','r')\n",
        "    uofg_declaration_of_originality = f.read()\n",
        "except: \n",
        "    uofg_declaration_of_originality = \"uofg_declaration_of_originality not present in cwd\"\n",
        "\n",
        "try:\n",
        "    student_id.lower()\n",
        "except: \n",
        "    student_id=\"NORESPONSE\"\n",
        "try:\n",
        "    student_typewritten_signature.lower()\n",
        "except: \n",
        "    student_typewritten_signature=\"NORESPONSE\"\n",
        "\n",
        "fn = (\"idss_lab_01_complinalg_%s_declaration.pdf\" % (student_id.lower()))\n",
        "fig_dec = plt.figure(figsize=(10, 12)) \n",
        "fig_dec.text(0.1,0.1,(\"%s\\n\\n Student Id %s\\n\\n Typewritten signature: %s\\n\\n UUID System: %s\" % (uofg_declaration_of_originality,student_id, student_typewritten_signature, uuid_system)))\n",
        " \n",
        "# Combined: \n",
        "fn = (\"idss_lab_01_complinalg_%s_combined_v20202021a.pdf\" % (student_id))\n",
        "pp = PdfPages(fn)\n",
        "pp.savefig(fig_dec)\n",
        "pp.close()\n",
        "\n",
        "with tick.marks(0):  # have you generated the combied file...? you don't actually get any credit for this just confirmation that the file has been generated\n",
        "    assert(os.path.exists(fn))\n"
      ],
      "execution_count": null,
      "outputs": []
    },
    {
      "cell_type": "markdown",
      "metadata": {
        "id": "h5EG03UiAkGW"
      },
      "source": [
        "**You must (for full or partial marks) submit via Moodle:**\n",
        "\n",
        "- this notebook (completed) after \"Restart and rerun all\":\n",
        "    - `idss_lab_01_complinalg_v20202021a.ipynb`\n",
        "    \n",
        "- the pdf (autogenerated):\n",
        "     - `idss_lab_01_complinalg_[YOUR STUDENT ID]_combined_v20202021a.pdf`)"
      ]
    },
    {
      "cell_type": "markdown",
      "metadata": {
        "id": "OgPO05VEAkGW"
      },
      "source": [
        "---"
      ]
    },
    {
      "cell_type": "markdown",
      "metadata": {
        "id": "szX0ULLZAkGW"
      },
      "source": [
        "# Appendix: Marking Summary (and other metadata)\n",
        "#### - make sure that the notebook runs without errors (remove/resolve the `raise NotImplementedError()`) and \"Restart and Rerun All\" cells to get a correct indication of your marks."
      ]
    },
    {
      "cell_type": "code",
      "metadata": {
        "deletable": false,
        "editable": false,
        "nbgrader": {
          "checksum": "188f5da93098cc80d7b24d794d3fe978",
          "grade": true,
          "grade_id": "cell-a62881d2c6be868e",
          "locked": true,
          "points": 0,
          "schema_version": 1,
          "solution": false
        },
        "id": "SD7DgDGCAkGW"
      },
      "source": [
        "print(\"Marks total : \",\"100\")\n",
        "print(\"Marks visible (with feedback): \",\"70\")\n",
        "print(\"Marks hidden (without feedback): \",\"30\")\n",
        "print(\"Marks autograded (hidden+visible): \",\"100\")\n",
        "print(\"\\nThe fraction below displays your performance on the autograded part of the lab that is visible with feedback (only valid after `Restart and Run all`:\")\n",
        "tick.summarise_marks() # \n",
        "\n",
        "print(\"- the autograded (and visible) marks account for at least 50% of the total lab assesment.\")"
      ],
      "execution_count": null,
      "outputs": []
    },
    {
      "cell_type": "code",
      "metadata": {
        "deletable": false,
        "editable": false,
        "nbgrader": {
          "checksum": "0f63f32168ff1a3c4a8c839dc2c66c1e",
          "grade": true,
          "grade_id": "cell-f9e382a1b3f2c844",
          "locked": true,
          "points": 0,
          "schema_version": 1,
          "solution": false
        },
        "id": "zU18lKTBAkGW"
      },
      "source": [
        ""
      ],
      "execution_count": null,
      "outputs": []
    },
    {
      "cell_type": "code",
      "metadata": {
        "id": "5D11ZLSdAkGW"
      },
      "source": [
        ""
      ],
      "execution_count": null,
      "outputs": []
    }
  ]
}